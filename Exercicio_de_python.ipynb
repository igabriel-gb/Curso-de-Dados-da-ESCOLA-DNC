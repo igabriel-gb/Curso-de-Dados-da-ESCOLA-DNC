{
 "cells": [
  {
   "attachments": {},
   "cell_type": "markdown",
   "metadata": {},
   "source": [
    "\n",
    "# Exercício 1\n",
    "## 1. Crie 3 variáveis:\n",
    "\n",
    "nomePrimeiro, nomeMeio, nomeUltimo\n",
    "\n",
    "Atribua um valor para cada uma delas e imprima a seguinte frase para o usuário:\n",
    "\n",
    "\"Gabriel Gonçalves de Briro, seja muito bem vindo a DNC\"\n",
    "\n",
    "Não precisa usar input( )"
   ]
  },
  {
   "cell_type": "code",
   "execution_count": 28,
   "metadata": {},
   "outputs": [
    {
     "name": "stdout",
     "output_type": "stream",
     "text": [
      "Gabriel Gonçalves de Brito, seja bem vindo a DNC\n"
     ]
    }
   ],
   "source": [
    "nomePrimeiro= 'Gabriel '\n",
    "nomeMeio= 'Gonçalves de '\n",
    "nomeUltimo= 'Brito'\n",
    "\n",
    "print(nomePrimeiro + nomeMeio + nomeUltimo + ', seja bem vindo a DNC')"
   ]
  },
  {
   "attachments": {},
   "cell_type": "markdown",
   "metadata": {},
   "source": [
    "## 2. Agora peça para o usuário digitar as 3 variáveis antes de mostrar a mesma frase da parte 1.\n",
    "\n",
    "Resultado esperado"
   ]
  },
  {
   "cell_type": "code",
   "execution_count": 29,
   "metadata": {},
   "outputs": [
    {
     "name": "stdout",
     "output_type": "stream",
     "text": [
      "Gabriel Gonçalves de Brito, seja muito bem vindoa DNC\n"
     ]
    }
   ],
   "source": [
    "nomePrimeiro=input('Qual o seu primeiro nome?\\n')\n",
    "nomeMeio=input('Qual o seu nome do meio?\\n')\n",
    "nomeUltimo=input('Qual o seu ultimo nome?\\n')\n",
    "\n",
    "print(nomePrimeiro, nomeMeio, nomeUltimo + ', seja muito bem vindoa DNC')"
   ]
  },
  {
   "attachments": {},
   "cell_type": "markdown",
   "metadata": {},
   "source": [
    "# Exercício 2\n",
    "#### 1. Vamos criar nosso primeiro script 💪, que:\n",
    "\n",
    "Armazene em uma variavel o nome do cliente, a variável precisa se chamar cliente_nome e o nome do cliente você pode usar sua criatividade.\n",
    "\n",
    "Crie uma variável que armazene a idade do cliente, a variável precisa se chamar cliente_idade.\n",
    "\n",
    "Exiba na tela as 2 variáveis e apenas uma variável por linha. Ex: \"O nome do Cliente é: Nathan Pereira\"."
   ]
  },
  {
   "cell_type": "code",
   "execution_count": 24,
   "metadata": {},
   "outputs": [
    {
     "name": "stdout",
     "output_type": "stream",
     "text": [
      "Nome do cliente: Gabriel Gonçalves de brito\n",
      "A idade do cliente: 25\n"
     ]
    }
   ],
   "source": [
    "cliente_nome='Gabriel Gonçalves de brito'\n",
    "cliente_idade= 25\n",
    "\n",
    "print('Nome do cliente:', cliente_nome)\n",
    "print('A idade do cliente:', cliente_idade)"
   ]
  },
  {
   "attachments": {},
   "cell_type": "markdown",
   "metadata": {},
   "source": [
    "#### 2. Agora que você já criou seu primeiro script vamos aumentar a dificuldade!\n",
    "Agora é o cliente que vai colocar as informações! Crie uma variável que receba como input o nome e a idade do cliente!\n",
    "Para ajudar o usuário exiba, essas variáveis na tela."
   ]
  },
  {
   "cell_type": "code",
   "execution_count": 3,
   "metadata": {},
   "outputs": [
    {
     "name": "stdout",
     "output_type": "stream",
     "text": [
      "O nome do clinte é: Gabriel Gonçalves de Brito\n",
      "A idade do cliente é: 25\n"
     ]
    }
   ],
   "source": [
    "cliente= input('Qual seu nome?\\n')\n",
    "idade= input('Qual a sua idade?\\n')\n",
    "\n",
    "print('O nome do clinte é:', cliente)\n",
    "print('A idade do cliente é:', idade)"
   ]
  },
  {
   "attachments": {},
   "cell_type": "markdown",
   "metadata": {},
   "source": [
    "#### 3. Vamos brincar com mais variáveis agora?!\n",
    "Crie uma variável do tipo FLOAT que vai armazenar o valor do produto, que receberá o valor de 25.30!\n",
    "Crie uma variável do tipo BOOL que vai armazenar se ele é ou não um cliente premium, recebendo o valor de True.\n",
    "Agora exiba essas variáveis na tela.\n",
    "Exiba também o tipo dessas variáveis."
   ]
  },
  {
   "cell_type": "code",
   "execution_count": 20,
   "metadata": {},
   "outputs": [
    {
     "name": "stdout",
     "output_type": "stream",
     "text": [
      "O valor do produto é: 25.3\n",
      "O tipo da variável produto-valor é: <class 'float'>\n",
      "O cliente é premium? True\n",
      "O tipo da variável cliemte_premium é: <class 'bool'>\n",
      "\n",
      "o valor do produto é: ,produto_valor 25.3 <class 'float'>\n",
      "o cliente é premium? True <class 'bool'>\n"
     ]
    }
   ],
   "source": [
    "produto_valor=25.30\n",
    "cliente_premium=True\n",
    "\n",
    "print('O valor do produto é:', produto_valor)\n",
    "print ('O tipo da variável produto-valor é:', type( produto_valor))\n",
    "print('O cliente é premium?', cliente_premium)\n",
    "print('O tipo da variável cliemte_premium é:', type(cliente_premium))\n",
    "print()\n",
    "\n",
    "print('o valor do produto é: ,produto_valor', produto_valor, type (produto_valor))\n",
    "print('o cliente é premium?', cliente_premium, type(cliente_premium))"
   ]
  },
  {
   "attachments": {},
   "cell_type": "markdown",
   "metadata": {},
   "source": [
    "### tipos de dados\n",
    "\n",
    "*str:* cadeia de caracteres= ']~´[@', '7', 'Gabriel'\n",
    "\n",
    "*int:* inteiro= 5, 10, 25\n",
    "\n",
    "*float:* real= 5.3, 25.3\n",
    "\n",
    "*bool:* booleanos= true, false\n",
    "\n",
    "\n",
    "### funções\n",
    "\n",
    "**print()=** imprimr uma frase\n",
    "\n",
    "**type()=** verifica o tipo de dado de uma variável\n",
    "\n",
    "**input()=** pede pro usuário fornecer um valor (str)"
   ]
  },
  {
   "attachments": {},
   "cell_type": "markdown",
   "metadata": {},
   "source": [
    "# plote as variáveis a baixo:\n",
    "## a = 245\n",
    "## b = 2.835895"
   ]
  },
  {
   "cell_type": "code",
   "execution_count": 41,
   "metadata": {},
   "outputs": [
    {
     "name": "stdout",
     "output_type": "stream",
     "text": [
      "|        245 | e |      2.836 |\n"
     ]
    }
   ],
   "source": [
    "a = 245\n",
    "b = 2.835895\n",
    "\n",
    "print('| {0:10} | e | {1:10.3f} |'.format(a, b))"
   ]
  },
  {
   "attachments": {},
   "cell_type": "markdown",
   "metadata": {},
   "source": [
    "### Fui numa hamburgueria e comprei 2 lanches de 10,90 cada, 3 refris de 4,50 cada e 1 batata por 8,45.\n",
    "### O pagamento foi no dinheiro com notas de 10 reais e 5 reais. perguntas\n",
    "1. Qual foi o valor total da conta?\n",
    "2. Quantas notas de 10 reais eu usei?\n",
    "3. Quantas notas de 5 reais eu usei?\n",
    "4. Quanto voltou de troco para mim em notas?\n",
    "5. Qunato voltou de troco para mim em moedas?"
   ]
  },
  {
   "cell_type": "code",
   "execution_count": 38,
   "metadata": {},
   "outputs": [
    {
     "name": "stdout",
     "output_type": "stream",
     "text": [
      "O valor da conta foi de: R$ 43.75\n",
      "Você tera que utilizar: 4 notas de R$ 10,00\n",
      "Você utilizara 1 notas de R$ 5,00\n",
      "Eu recebi 0 notas de R$ 2,00\n",
      "Vou receber R$ 1.75 em moedas\n"
     ]
    }
   ],
   "source": [
    "qunatidadeLanche=2\n",
    "quantidadeRefri=3\n",
    "quantidadebatata=1\n",
    "valorlanche=10.9\n",
    "valorRefri=4.5\n",
    "valorBatata=8.45\n",
    "\n",
    "valorTotal= qunatidadeLanche * valorlanche + quantidadeRefri * valorRefri + quantidadebatata * valorBatata\n",
    "\n",
    "print('O valor da conta foi de: R$ {}'.format(valorTotal))\n",
    "\n",
    "notas10=valorTotal // 10\n",
    "\n",
    "print('Você tera que utilizar: {} notas de R$ 10,00'.format(int(notas10)))\n",
    "\n",
    "valorFalta = valorTotal - notas10 * 10 \n",
    "notas5 = valorFalta // 5 + 1\n",
    "valorFalta= valorFalta - notas5\n",
    "\n",
    "print('Você utilizara {} notas de R$ 5,00'. format (int(notas5)))\n",
    "\n",
    "valorFalta = valorFalta - notas5\n",
    "notas2= valorFalta // 2\n",
    "\n",
    "\n",
    "print('Eu recebi {} notas de R$ 2,00'.format(int(notas2)))\n",
    "\n",
    "valorMoeda= valorFalta - 0\n",
    "\n",
    "print('Vou receber R$ {} em moedas'.format(valorMoeda))\n"
   ]
  },
  {
   "attachments": {},
   "cell_type": "markdown",
   "metadata": {},
   "source": [
    "# Exercícios\n",
    "## Exercício 1:\n",
    "#### Vamos testar os comportamentos dos diferentes operadores aritméticos. Para isso vamos montar uma calculadora, eai? Bora, vamos nessa?\n",
    "\n",
    "Criar variáveis n1 e n2 que receberão inputs do tipo INT do usuário. (não se esqueça de tratar o que está sendo recebido rsrs) Exibir o resultado da Adição dessas 2 variáveis. Exibir o resultado da Subtração dessas variáveis. Exibir o resultado da Multiplicação dessas variáveis. Exibir o resultado da Divisão dessas variáveis. Exibir o resultado do Módulo (Resto da divisão) entre essas variáveis. Exibir o resultado de uma variável Exponenciando a outra. [ ]"
   ]
  },
  {
   "cell_type": "code",
   "execution_count": 2,
   "metadata": {},
   "outputs": [
    {
     "name": "stdout",
     "output_type": "stream",
     "text": [
      "n1: 7 \n",
      "n2: 5\n",
      "12\n",
      "2\n",
      "35\n",
      "1.4\n",
      "1\n",
      "2\n"
     ]
    }
   ],
   "source": [
    "n1=int(input(\"igite um valor inteiro\"))\n",
    "n2=int(input('informe mais um valor inteiro'))\n",
    "\n",
    "print ('n1:',n1,\n",
    "'\\nn2:',n2)\n",
    "print (n1+n2)\n",
    "print (n1-n2)\n",
    "print (n1*n2)\n",
    "print (n1/n2)\n",
    "print (n1//n2)\n",
    "print (n1%n2)"
   ]
  },
  {
   "attachments": {},
   "cell_type": "markdown",
   "metadata": {},
   "source": [
    "## Exercício 2:\n",
    "Faça um programa que o usuário digita um valor inteiro e nós mostramos toda a tabuada daquele número."
   ]
  },
  {
   "cell_type": "code",
   "execution_count": 42,
   "metadata": {},
   "outputs": [
    {
     "name": "stdout",
     "output_type": "stream",
     "text": [
      "18 * 1 = 18\n",
      "18 * 2 = 36\n",
      "18 * 3 = 54\n",
      "18 * 4 = 72\n",
      "18 * 5 = 90\n",
      "18 * 6 = 108\n",
      "18 * 7 = 126\n",
      "18 * 8 = 144\n",
      "18 * 9 = 162\n",
      "18 * 10 = 180\n",
      "chegamos ao fim, até a proxima\n"
     ]
    }
   ],
   "source": [
    "contador = 0\n",
    "valor=int(input('informe um valor inteiro\\n'))\n",
    "while True:\n",
    "    if contador < 10:\n",
    "        contador = contador + 1\n",
    "        if contador :\n",
    "            print(('{} * {} = {}'.format(valor, contador, valor*contador)))\n",
    "    else:\n",
    "        break\n",
    "print(\"chegamos ao fim, até a proxima\")"
   ]
  },
  {
   "attachments": {},
   "cell_type": "markdown",
   "metadata": {},
   "source": [
    "## Exercício 3:\n",
    "Faça um programa no qual o usuário digite a distância percorrida por um carro e a qtd de litros de combustível gasto.\n",
    "Calcule e mostre para o usuário quantos km/l o seu carro faz."
   ]
  },
  {
   "cell_type": "code",
   "execution_count": 45,
   "metadata": {},
   "outputs": [
    {
     "name": "stdout",
     "output_type": "stream",
     "text": [
      "Seu carro faz 16.67km/L\n"
     ]
    }
   ],
   "source": [
    "quilometros=int(input('Quantos km você percorreu com seu carro? \\n'))\n",
    "litrosConbustivel=int(input('Quantos litros de conbustível foi gastos?\\n'))\n",
    "\n",
    "km_L= quilometros / litrosConbustivel\n",
    "\n",
    "print('Seu carro faz {:.2f}km/L'.format(km_L))"
   ]
  },
  {
   "attachments": {},
   "cell_type": "markdown",
   "metadata": {},
   "source": [
    "## Exercício\n",
    "#### dado o peço do lanche = 10,90 e da batata de 5,40. calcule quando vai sair a conta do usuário. o usoário deve inserir a quantidade de lanche que ele quer e a quantidade de batatas. finalmentr peça para o usuário falar quanto dinheiro ele tem na carteira e verifique se ele tem vai consegir pagar a cconta."
   ]
  },
  {
   "cell_type": "code",
   "execution_count": 10,
   "metadata": {},
   "outputs": [
    {
     "name": "stdout",
     "output_type": "stream",
     "text": [
      "você tem dinheiro suficiente par apagar\n"
     ]
    }
   ],
   "source": [
    "lancheV=10.9\n",
    "batataV=5.4\n",
    "lancheQ=float(input('Quantos lanches você quer?\\n'))\n",
    "batataQ=float(input('Quantas batata voce quer?\\n'))\n",
    "dinheiro=float(input('Quanto de dinehiro você tem?\\n'))\n",
    "\n",
    "total= lancheV*lancheQ + batataV * batataQ\n",
    "if dinheiro >= total:\n",
    "    print('você tem dinheiro suficiente par apagar')\n",
    "else:\n",
    "    print('você não consegue pagar a conta')"
   ]
  },
  {
   "attachments": {},
   "cell_type": "markdown",
   "metadata": {},
   "source": [
    "## Exercício 2\n",
    "#### 1. faça um programa que pede para um usuário siditar 2 números e:\n",
    "\n",
    "se num1 >= num2 estão multiplique o num2 por 5.\n",
    "\n",
    "caso contratio, multiplique o num1 por 5"
   ]
  },
  {
   "cell_type": "code",
   "execution_count": 29,
   "metadata": {},
   "outputs": [
    {
     "name": "stdout",
     "output_type": "stream",
     "text": [
      "num2 é maior ou igual a num1 \n",
      "num1 5.0, num2 3.0\n"
     ]
    }
   ],
   "source": [
    "num1= float(input('digite um número: '))\n",
    "num2= float(input('digite outro número: '))\n",
    "\n",
    "if num1>=num2:\n",
    "    print('num1 é maior ou igual a num2')\n",
    "    num2=num2*5\n",
    "\n",
    "else:\n",
    "    print('num2 é maior ou igual a num1 ')\n",
    "    num1 = num1*5\n",
    "\n",
    "print('num1 {}, num2 {}'.format(num1, num2))"
   ]
  },
  {
   "attachments": {},
   "cell_type": "markdown",
   "metadata": {},
   "source": [
    "# exercício 3\n",
    "\n",
    "Faça um programa que verifique se o usuário digitpu um valor numérico ou não.\n",
    "\n",
    "1. caso verdadeiro, inprima: \"Esse input é um número\"\n",
    "2. caso falso, imprima: \"Esse input não é um número, tente novamente\" "
   ]
  },
  {
   "cell_type": "code",
   "execution_count": 6,
   "metadata": {},
   "outputs": [],
   "source": [
    "teste=input('digite algo')\n",
    "\n",
    "numero=teste.isnumeric()\n",
    "texto = teste.isalpha()\n",
    "\n",
    "if numero == True :\n",
    "    print('Esse input e um número')\n",
    "elif texto == True :\n",
    "    print('Você digitou texto.\\n'\n",
    "    'Tente novamente,. digite apenas numeros')\n",
    "else:\n",
    "    print('Esse input é texto com número\\n'\n",
    "    'Preciso apenas de números, tente novamente!')"
   ]
  },
  {
   "attachments": {},
   "cell_type": "markdown",
   "metadata": {},
   "source": [
    "# CONDICIONAIS\n",
    "## EXERCÍCIO\n",
    "### Você deverá utilizar o que aprendeu nas aulas de condicionais para desenvolver os desafios a seguir:\n",
    "\n",
    "1. Seu primeiro desafio é desenvolver um programa para um depósito de bebidas que valide venda de bebidas para maiores de idade (maior ou igual 18 anos) no mercado, o programa deve receber do usuário os valores do nome e ano que ele nasceu e retornar se ele pode comprar bebidas.\n"
   ]
  },
  {
   "cell_type": "code",
   "execution_count": 20,
   "metadata": {},
   "outputs": [
    {
     "name": "stdout",
     "output_type": "stream",
     "text": [
      "gabriel a idade que você nos informou e incoerente com sua data de nascimento!\n",
      "Apresente um docomento com foto para validarmos as informações.\n"
     ]
    }
   ],
   "source": [
    "\n",
    "from datetime import date\n",
    "Data= date.today().year\n",
    "\n",
    "try:\n",
    "    idade=int(input('Qual a sua idade?\\n  '))\n",
    "    if idade<=17:\n",
    "        print('Não vendemos bebidas para menores de 18 anos')\n",
    "\n",
    "    else:\n",
    "        nome = input('Qual o seu nome?\\n  ')\n",
    "        nascimento = int(input('Qual ano você nasceu?\\n  '))\n",
    "        realIdade = Data-nascimento\n",
    "        if realIdade <= 17:\n",
    "            print(f'{nome} a idade que você nos informou e incoerente com sua data de nascimento!\\n'\n",
    "            'Apresente um docomento com foto para validarmos as informações.')\n",
    "        else:\n",
    "            print(f'{nome} beba com moderação!')\n",
    "\n",
    "except:\n",
    "    print('Erro, leia e responda como está sendo pedido.')\n",
    "\n"
   ]
  },
  {
   "attachments": {},
   "cell_type": "markdown",
   "metadata": {},
   "source": [
    "### 2. Esse bimestre na faculdade você precisa tirar nota 8 de média para passar na matéria, desenvolva um script que leia a nota de suas últimas 3 provas, tire a média delas e verifique se você passou.\n"
   ]
  },
  {
   "cell_type": "code",
   "execution_count": 24,
   "metadata": {},
   "outputs": [
    {
     "name": "stdout",
     "output_type": "stream",
     "text": [
      "Sua nota foi 8.53, você foi aprovado\n"
     ]
    }
   ],
   "source": [
    "nota1=float(input('Infome a nota da sua primeira prova:  '))\n",
    "nota2=float(input('Informe a nota da sua segunda prova:  '))\n",
    "nota3=float(input('Informe a nota da sua segunda prova:  '))\n",
    "\n",
    "nota=(nota1+nota2+nota3)/3\n",
    "if nota>=8:\n",
    "    print (f'Sua nota foi {nota:.2f}, você foi aprovado')\n",
    "\n",
    "else:\n",
    "    print (f'Sua nota foi de {nota:.2f}, você ficou abaixo da media')"
   ]
  },
  {
   "attachments": {},
   "cell_type": "markdown",
   "metadata": {},
   "source": [
    "### 3. A fisioterapeuta que você vai gosta muito de brincar com números, e pediu para você criar um sistema que verifique se a altura inserida é par ou impar.\n"
   ]
  },
  {
   "cell_type": "code",
   "execution_count": 32,
   "metadata": {},
   "outputs": [
    {
     "name": "stdout",
     "output_type": "stream",
     "text": [
      "O número 25 é Ìmpar\n"
     ]
    }
   ],
   "source": [
    "valor = int(input('informe um numero:  '))\n",
    "soma = valor % 2\n",
    "\n",
    "if soma == 0:\n",
    "    print(f'O número {valor} é PAR')\n",
    "else:\n",
    "    print(f'O número {valor} é Ímpar')"
   ]
  },
  {
   "attachments": {},
   "cell_type": "markdown",
   "metadata": {},
   "source": [
    "### 4. Faça um script que você coloque a quantidade de dias e descubra em qual trimestre esse dia está no ano.\n"
   ]
  },
  {
   "cell_type": "code",
   "execution_count": 47,
   "metadata": {},
   "outputs": [
    {
     "name": "stdout",
     "output_type": "stream",
     "text": [
      "366\n",
      "Ano bissexto\n",
      "____________________________________________________________________________________________________\n",
      "O dia informado coreespode ao 2º trimestre: de abril a junho.\n"
     ]
    }
   ],
   "source": [
    "dias =0\n",
    "try:\n",
    "    ano=int (input('digite [1] se o ano atual tem 365 dias [2] se o ano tem 366'))\n",
    "    if ano == 1:\n",
    "        print ('Ano bissexto')\n",
    "        print('_'*100 )\n",
    "        print()\n",
    "\n",
    "        if dias >=0 or dias <= 366:\n",
    "            dias=int(input('digite número entre 1 e 366 referente aos dias do ano:\\n  '))\n",
    "                                \n",
    "            if dias >0 and dias<92:\n",
    "                print('O dia informado coreesponde ao 1º trimestre: de janeiro a março.')\n",
    "            elif dias >91 and dias <183:\n",
    "                print('O dia informado coreespode ao 2º trimestre: de abril a junho.')\n",
    "            elif dias >182 and dias <274:\n",
    "                print('O dia informado corresponde ao 3º trimestre: de julho a setembro.')\n",
    "            else:\n",
    "                print ('O dia informado correponde ao 4º trimestre: de outubro a dezembro.')\n",
    "        \n",
    "        else:    \n",
    "            print ('o dia desejado esta inconpativel. tente novamente.')\n",
    "\n",
    "\n",
    "    elif ano == 2:\n",
    "        print ('O ano e bisiesto')\n",
    "        print('_'*100 )\n",
    "        print()\n",
    "\n",
    "        if dias >=0 or dias <= 368:\n",
    "            dias=int(input('digite número entre 1 e 366 referente aos dias do ano:\\n  '))\n",
    "\n",
    "            if dias >0 and dias<92:\n",
    "                print('O dia informado coreesponde ao 1º trimestre: de janeiro a março.')\n",
    "            elif dias >91 and dias <183:\n",
    "                print('O dia informado coreespode ao 2º trimestre: de abril a junho.')\n",
    "            elif dias >182 and dias <275:\n",
    "                print('O dia informado corresponde ao 3º trimestre: de julho a setembro.')\n",
    "            else:\n",
    "                print ('O dia informado correponde ao 4º trimestre: de outubro a dezembro.')\n",
    "        \n",
    "        else:\n",
    "            print ('o dia desejado esta inconpativel. tente novamente.')\n",
    "\n",
    "except:\n",
    "    print('Erro')"
   ]
  },
  {
   "attachments": {},
   "cell_type": "markdown",
   "metadata": {},
   "source": [
    "### 5. Desenvolva um sistema que leia 3 números e diga qual é o maior (se houver empate, exiba os empatados).\n"
   ]
  },
  {
   "cell_type": "code",
   "execution_count": 93,
   "metadata": {},
   "outputs": [
    {
     "name": "stdout",
     "output_type": "stream",
     "text": [
      "O maior número foi 9\n",
      "Não tivemos números iguais\n"
     ]
    }
   ],
   "source": [
    "a=int(input('Digite o primeiro valor:  '))\n",
    "b=int(input('Digite o segundo valor:  '))\n",
    "c=int(input('Digite o terceiro valor:  '))\n",
    "\n",
    "if a>b and a>c:\n",
    "    maior=a\n",
    "elif b>a and b>c:\n",
    "    maior = b\n",
    "elif c>a or c>b:\n",
    "    maior = c\n",
    "\n",
    "print ('O maior número foi',maior)\n",
    "\n",
    "if a==b:\n",
    "    igual = a\n",
    "    print ('O número',igual, 'se repetiu')\n",
    "elif b==c:\n",
    "    igual =b\n",
    "    print ('O número',igual, 'se repetiu')\n",
    "else:\n",
    "    print('Não tivemos números iguais')\n",
    "\n"
   ]
  },
  {
   "attachments": {},
   "cell_type": "markdown",
   "metadata": {},
   "source": [
    "# Exercício 1\n",
    "Some os números ímpares consecutivos começando em 1 e terminando 9"
   ]
  },
  {
   "cell_type": "code",
   "execution_count": 1,
   "metadata": {},
   "outputs": [
    {
     "name": "stdout",
     "output_type": "stream",
     "text": [
      "soma dos numeros 1\n",
      "soma dos numeros 4\n",
      "soma dos numeros 9\n",
      "soma dos numeros 16\n",
      "soma dos numeros 25\n",
      "soma dos numeros 36\n",
      "soma dos numeros 49\n",
      "soma dos numeros 64\n",
      "soma dos numeros 81\n",
      "soma dos numeros 100\n",
      "soma dos numeros 121\n"
     ]
    }
   ],
   "source": [
    "comando=range(1,22,2)\n",
    "soma = 0\n",
    "for j in comando:\n",
    "    soma += j\n",
    "    print('soma dos numeros {}'.format(soma))"
   ]
  },
  {
   "attachments": {},
   "cell_type": "markdown",
   "metadata": {},
   "source": [
    "# Exercício 1\n",
    "Tire a média de 3 números digitados pelo usuário."
   ]
  },
  {
   "cell_type": "code",
   "execution_count": 12,
   "metadata": {},
   "outputs": [
    {
     "name": "stdout",
     "output_type": "stream",
     "text": [
      "a soma do 1º número foi 4\n",
      "a soma do 2º número foi 13\n",
      "a soma do 3º número foi 16\n",
      "A media foi de 5.33\n"
     ]
    }
   ],
   "source": [
    "estrutura=range(1,4)\n",
    "base=0\n",
    "for i in estrutura:\n",
    "    a= float(input(f'digite o {i}º numero'))\n",
    "    base +=a\n",
    "    print(f'a soma do {i}º número foi {base :.0f}')\n",
    "media = base / i\n",
    "print ('A media foi de {:.2f}'.format(media))"
   ]
  },
  {
   "attachments": {},
   "cell_type": "markdown",
   "metadata": {},
   "source": [
    "## Exercício 2\n",
    "1. Pergunte para o usuário de quantos números ele quer tirar a média\n",
    "2. Tire a média desses números"
   ]
  },
  {
   "cell_type": "code",
   "execution_count": 20,
   "metadata": {},
   "outputs": [
    {
     "name": "stdout",
     "output_type": "stream",
     "text": [
      "será 5 periguntas, bora responder e d3scobrir qual a media deles: \n",
      "a soma do 1º número foi de 1.0 \n",
      "a soma do 2º número foi de 22.0 \n",
      "a soma do 3º número foi de 31.0 \n",
      "a soma do 4º número foi de 38.0 \n",
      "a soma do 5º número foi de 72.5 \n",
      "A media foi de 14.50\n"
     ]
    }
   ],
   "source": [
    "i=int(input('quantos número você querr tirar a media'))\n",
    "passo=range(1,i+1)\n",
    "soma=0\n",
    "print(f'será {i} periguntas, bora responder e d3scobrir qual a media deles: ')\n",
    "for a in passo:\n",
    "    pergunta=float(input(f'Digite o {a}º número:  '))\n",
    "    soma +=pergunta\n",
    "    print(f'a soma do {a}º número foi de {soma} ')\n",
    "media= soma / a\n",
    "print(f'A media foi de {media :.2f}')"
   ]
  },
  {
   "attachments": {},
   "cell_type": "markdown",
   "metadata": {},
   "source": [
    "## Exercício 1\n",
    "Some números digitados pelo usuário até a soma deles ultrapassar 20"
   ]
  },
  {
   "cell_type": "code",
   "execution_count": 31,
   "metadata": {},
   "outputs": [
    {
     "name": "stdout",
     "output_type": "stream",
     "text": [
      "22\n"
     ]
    }
   ],
   "source": [
    "soma = 0\n",
    "while soma < 20:\n",
    "    s=int(input('digite um número:  '))\n",
    "    soma += s\n",
    "print (soma)"
   ]
  },
  {
   "attachments": {},
   "cell_type": "markdown",
   "metadata": {},
   "source": [
    "# Exercicio\n",
    "Faça um programa que caucule a tabuada do numero digitada pelo usuário."
   ]
  },
  {
   "cell_type": "code",
   "execution_count": 87,
   "metadata": {},
   "outputs": [
    {
     "name": "stdout",
     "output_type": "stream",
     "text": [
      "7 * 1 = 7\n",
      "7 * 2 = 14\n",
      "7 * 3 = 21\n",
      "7 * 4 = 28\n",
      "7 * 5 = 35\n",
      "7 * 6 = 42\n",
      "7 * 7 = 49\n",
      "7 * 8 = 56\n",
      "7 * 9 = 63\n",
      "7 * 10 = 70\n"
     ]
    }
   ],
   "source": [
    "num=int(input('qual tabuada você quer: '))\n",
    "\n",
    "for i in range(1,11):\n",
    "    \n",
    "    print('{} * {} = {}' .format(num, i, num*i))"
   ]
  },
  {
   "attachments": {},
   "cell_type": "markdown",
   "metadata": {},
   "source": [
    "# Exercício 2\n",
    "Faça um programa que o usuário irá digitar 10 números e você irá mostrar:\n",
    "\n",
    "1. Qual foi o menor valor\n",
    "2. Qual foi o maior valor\n",
    "3. Qual a média dos valores"
   ]
  },
  {
   "cell_type": "code",
   "execution_count": 112,
   "metadata": {},
   "outputs": [
    {
     "name": "stdout",
     "output_type": "stream",
     "text": [
      "O maior número foi: 652\n",
      "O menor numero foi: 2\n",
      "A media foi: 135.90\n"
     ]
    }
   ],
   "source": [
    "i=[]\n",
    "for a in range(1,11):\n",
    "    perguntas=int(input(f'Digite o {a}º número: '))\n",
    "    i.append(perguntas)\n",
    "\n",
    "print('O maior número foi:',max(i))\n",
    "print(f'O menor numero foi: {min(i)}')\n",
    "print('A media foi: {:.2f}'.format (sum(i)/a))"
   ]
  },
  {
   "attachments": {},
   "cell_type": "markdown",
   "metadata": {},
   "source": [
    "# Exercício 3\n",
    "Faça um programa que calcula a Sequência de Fibonacci de N números, onde N é dado pelo usuário.\n",
    "\n",
    "Essa sequência é construída começando com os números 0 e 1. O próximo número da sequência é sempre a soma dos 2 anteriores.\n",
    "\n",
    "Sequência: 0 - 1 - 1 - 2 - 3 - 5 - 8 - 13 - 21 - ..."
   ]
  },
  {
   "cell_type": "code",
   "execution_count": 105,
   "metadata": {},
   "outputs": [
    {
     "name": "stdout",
     "output_type": "stream",
     "text": [
      "valos execultar 30 primeriros termos da sequencia de Fibonacci.\n",
      "0 - 1 - 1 - 2 - 3 - 5 - 8 - 13 - 21 - 34 - 55 - 89 - 144 - 233 - 377 - 610 - 987 - 1597 - 2584 - 4181 - 6765 - 10946 - 17711 - 28657 - 46368 - 75025 - 121393 - 196418 - 317811"
     ]
    }
   ],
   "source": [
    "valor1=0\n",
    "valor2=1\n",
    "\n",
    "n=int(input('Informe o numero para a sequencia de Fibonacci: '))\n",
    "print(f'valos execultar {n} primeriros termos da sequencia de Fibonacci.')\n",
    "\n",
    "print(valor1, '-' ,valor2, end='')\n",
    "\n",
    "for a in range(3,n):\n",
    "    valor3 = valor1+valor2\n",
    "    print(f' - {valor3}', end='')\n",
    "    valor1 = valor2\n",
    "    valor2 = valor3\n",
    "    contador += 1\n",
    "\n"
   ]
  },
  {
   "attachments": {},
   "cell_type": "markdown",
   "metadata": {},
   "source": [
    "# Exercício 1\n",
    "Dada a tupla abaixo:\n",
    "\n",
    "t1 = ('Doce', 'Churrasco', 'Bala ', 'Tapioca', 'Pizza ', 'Feijão ', \n",
    "      'Arroz ', 'Açaí ', 'Paçoca ', 'Acarajé', 'Pamonha', 'Dobradinha', 'Rapadura')     \n",
    "#### Faça um programa que:    \n",
    "\n",
    "O usuário digita uma comida e seu programa diz em qual posição do cardápio esse item está      \n",
    "Printe os itens em ordem alfabética para o usuário"
   ]
  },
  {
   "cell_type": "code",
   "execution_count": 1,
   "metadata": {},
   "outputs": [
    {
     "name": "stdout",
     "output_type": "stream",
     "text": [
      "----- Cardápio -----\n",
      "Temos: .........Doce\n",
      "Temos: ....Churrasco\n",
      "Temos: .........Bala\n",
      "Temos: ......Tapioca\n",
      "Temos: ........Pizza\n",
      "Temos: .......Feijão\n",
      "Temos: ........Arroz\n",
      "Temos: .........Açaí\n",
      "Temos: .......Paçoca\n",
      "Temos: ......Acarajé\n",
      "Temos: ......Pamonha\n",
      "Temos: ...Dobradinha\n",
      "Temos: .....Rapadura\n",
      "--------------------------------------------------\n",
      "Erro de <class 'ValueError'>\n",
      "-------------------------------------------------- \n",
      "  \n",
      "  \n",
      " ['Acarajé', 'Arroz', 'Açaí', 'Bala', 'Churrasco', 'Dobradinha', 'Doce', 'Feijão', 'Pamonha', 'Paçoca', 'Pizza', 'Rapadura', 'Tapioca']\n"
     ]
    }
   ],
   "source": [
    "try:\n",
    "      t1 = ('Doce', 'Churrasco', 'Bala', 'Tapioca', 'Pizza', 'Feijão', \n",
    "      'Arroz', 'Açaí', 'Paçoca', 'Acarajé', 'Pamonha', 'Dobradinha', 'Rapadura')\n",
    "\n",
    "      print('-'*5, 'Cardápio', '-'*5)\n",
    "      for i in t1:\n",
    "            print(f'Temos: {i:.>13}')\n",
    "      print('-'*50)\n",
    "      a=input('Oque deseja? ').capitalize()\n",
    "      print(f'A opção escolhida foi {a} e esta na posição:',t1.index(a))\n",
    "\n",
    "\n",
    "except:\n",
    "      print('Erro de', ValueError)\n",
    "\n",
    "print('-'*50,'\\n',\n",
    "      ' \\n',\n",
    "      ' \\n',\n",
    "      sorted(t1))\n"
   ]
  },
  {
   "attachments": {},
   "cell_type": "markdown",
   "metadata": {},
   "source": [
    "# Exercício 2\n",
    "Dado a tupla abaixo:\n",
    "\n",
    "t1 = ('Doce', 2.3, 'Bala ', 0.15, 'Pizza ', 28.9, 'Arroz ', 4.5, 'Paçoca ', 0.5, 'Pamonha', 5.4)     \n",
    "Os dados estão organizados de forma que tem o valor do produto e logo após o seu preço. Faça um programa que:\n",
    "\n",
    "Mostre o cardápio de forma organizada     \n",
    "Resultado esperado:"
   ]
  },
  {
   "cell_type": "code",
   "execution_count": 1,
   "metadata": {},
   "outputs": [
    {
     "name": "stdout",
     "output_type": "stream",
     "text": [
      " -------------------------------- \n",
      " ----------- Cardapio ----------- \n",
      " --------------------------------\n",
      " Doce................... R$   2.3\n",
      " Bala .................. R$  0.15\n",
      " Pizza ................. R$  28.9\n",
      " Arroz ................. R$   4.5\n",
      " Paçoca ................ R$   0.5\n",
      " Pamonha................ R$   5.4\n"
     ]
    }
   ],
   "source": [
    "t1 = ('Doce', 2.3, 'Bala ', 0.15, 'Pizza ', 28.9, 'Arroz ', 4.5, 'Paçoca ', 0.5, 'Pamonha', 5.4)\n",
    "car=' Cardapio '\n",
    "print('','-'*32,'\\n',\n",
    "'{:-^32}'.format(car),'\\n',\n",
    "'-'*32)\n",
    "a=-2\n",
    "b=-1\n",
    "\n",
    "for i in range(1,int((len(t1)+2)/2)):\n",
    "    a+=2\n",
    "    b+=2\n",
    "    print(f' {t1[a]:.<23} R$ {t1[b]: >5}')\n"
   ]
  },
  {
   "attachments": {},
   "cell_type": "markdown",
   "metadata": {},
   "source": [
    "# Exercício 3\n",
    "Dado a mesma tupla do exercício anterior faça um programa que:     \n",
    "\n",
    "O usuário visualiza o cardápio e digita qual item ele quer comprar. A seguir pergunta se ele quer algo a mais. Caso ele queira vai somando todos os valores do pedido numa variável soma.     \n",
    "No final printe para o usuário o valor total da conta dele"
   ]
  },
  {
   "cell_type": "code",
   "execution_count": null,
   "metadata": {},
   "outputs": [
    {
     "name": "stdout",
     "output_type": "stream",
     "text": [
      " -------------------------------- \n",
      " ----------- Cardapio ----------- \n",
      " --------------------------------\n",
      " Doce................... R$   2.3\n",
      " Bala................... R$  0.15\n",
      " Pizza.................. R$  28.9\n",
      " Arroz.................. R$   4.5\n",
      " Paçoca................. R$   0.5\n",
      " Pamonha................ R$   5.4\n",
      "__________________________________________________ \n",
      "\n",
      "Fim do programa, até logo\n",
      "Fim do programa, até logo\n"
     ]
    }
   ],
   "source": [
    "# cores e estilos\n",
    "# padrão par ao python   \\033[1;31;47m\n",
    "# 0 normal\n",
    "# 1 negrito\n",
    "# 4 sublinhado\n",
    "# 7 fundo\n",
    "# *****     COR DA FONTE    *****\n",
    "# 30 cor branca\n",
    "# 31 cor vermelha\n",
    "# 32 cor verde\n",
    "# 33 cor amarela\n",
    "# 34 cor azul \n",
    "# 35 cor roxo\n",
    "# 36 cor verde água\n",
    "# 37 cor cinza\n",
    "# *****     COR DO FUNDO    ******\n",
    "# 40 cor do fundo branco\n",
    "# 41 cor do fundo vermelho\n",
    "# 42 cor do fundo verde\n",
    "# 43 cor do fundo amarelo\n",
    "# 44 cor do fundo azul\n",
    "# 45 cor do fundo roxo\n",
    "# 46 cor do fundo verde agua\n",
    "# 47 cor do funfo cinza \n",
    "\n",
    "t1 = ('Doce', 2.3, 'Bala', 0.15, 'Pizza', 28.9, 'Arroz', 4.5, 'Paçoca', 0.5, 'Pamonha', 5.4)\n",
    "car=' Cardapio '\n",
    "print('','-'*32,'\\n','{:-^32}'.format(car),'\\n','-'*32)\n",
    "a=-2\n",
    "b=-1\n",
    "\n",
    "for i in range(1,int((len(t1)+2)/2)):    \n",
    "    a+=2\n",
    "    b+=2\n",
    "    print(f' {t1[a]:.<23} R$ {t1[b]: >5}')\n",
    "        \n",
    "print('_'*50,'\\n')\n",
    "valor_pedido=0\n",
    "comanda=[]\n",
    "while True:\n",
    "    try:        \n",
    "        pedido=str(input('Oque deseja? ')).capitalize()\n",
    "        comanda.append(pedido)\n",
    "        valor_pedido+=(t1[t1.index(pedido)+1])\n",
    "        pergunta=input('Algo mais?\\n' 'Pressione \\033[1;37;44m\"S\"\\033[0m para continuar:  ')[0].lower\n",
    "    \n",
    "        while pergunta != 's':\n",
    "            \n",
    "            print('_'*50,' \\n','Os itens escolhidos foram:\\n')\n",
    "\n",
    "            for i,c  in enumerate(comanda):\n",
    "                print(f'{c}' )\n",
    "            print(f'\\nvalor total do pedido foi:\\nR$ {valor_pedido:.2f}')\n",
    "            break\n",
    "\n",
    "    except ValueError:\n",
    "        loop = input('\\033[1;31;40mAlgo deu errado!\\n'\n",
    "'\\033[0;mDeseja tentar novamente? (S/N)\\n')[0].lower()\n",
    "        if loop == 's':\n",
    "            continue\n",
    "        else:\n",
    "            print ('Fim do programa, até logo')"
   ]
  }
 ],
 "metadata": {
  "kernelspec": {
   "display_name": "Python 3",
   "language": "python",
   "name": "python3"
  },
  "language_info": {
   "codemirror_mode": {
    "name": "ipython",
    "version": 3
   },
   "file_extension": ".py",
   "mimetype": "text/x-python",
   "name": "python",
   "nbconvert_exporter": "python",
   "pygments_lexer": "ipython3",
   "version": "3.10.9"
  },
  "orig_nbformat": 4,
  "vscode": {
   "interpreter": {
    "hash": "e9e375da22a79186ffe49072ae6df2c8be50fc2c627f3d12cad18e70942528a3"
   }
  }
 },
 "nbformat": 4,
 "nbformat_minor": 2
}
