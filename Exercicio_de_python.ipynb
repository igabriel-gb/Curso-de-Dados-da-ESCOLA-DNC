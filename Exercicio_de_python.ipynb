{
 "cells": [
  {
   "attachments": {},
   "cell_type": "markdown",
   "metadata": {},
   "source": [
    "\n",
    "# Exercício 1\n",
    "## Parte 1\n",
    "Crie 3 variáveis:\n",
    "\n",
    "nomePrimeiro, nomeMeio, nomeUltimo\n",
    "\n",
    "Atribua um valor para cada uma delas e imprima a seguinte frase para o usuário:\n",
    "\n",
    "\"Gabriel Gonçalves de Briro, seja muito bem vindo a DNC\"\n",
    "\n",
    "Não precisa usar input( )"
   ]
  },
  {
   "cell_type": "code",
   "execution_count": 28,
   "metadata": {},
   "outputs": [
    {
     "name": "stdout",
     "output_type": "stream",
     "text": [
      "Gabriel Gonçalves de Brito, seja bem vindo a DNC\n"
     ]
    }
   ],
   "source": [
    "nomePrimeiro= 'Gabriel '\n",
    "nomeMeio= 'Gonçalves de '\n",
    "nomeUltimo= 'Brito'\n",
    "\n",
    "print(nomePrimeiro + nomeMeio + nomeUltimo + ', seja bem vindo a DNC')"
   ]
  },
  {
   "attachments": {},
   "cell_type": "markdown",
   "metadata": {},
   "source": [
    "## Parte 2\n",
    "Agora peça para o usuário digitar as 3 variáveis antes de mostrar a mesma frase da parte 1.\n",
    "\n",
    "Resultado esperado"
   ]
  },
  {
   "cell_type": "code",
   "execution_count": 29,
   "metadata": {},
   "outputs": [
    {
     "name": "stdout",
     "output_type": "stream",
     "text": [
      "Gabriel Gonçalves de Brito, seja muito bem vindoa DNC\n"
     ]
    }
   ],
   "source": [
    "nomePrimeiro=input('Qual o seu primeiro nome?\\n')\n",
    "nomeMeio=input('Qual o seu nome do meio?\\n')\n",
    "nomeUltimo=input('Qual o seu ultimo nome?\\n')\n",
    "\n",
    "print(nomePrimeiro, nomeMeio, nomeUltimo + ', seja muito bem vindoa DNC')"
   ]
  },
  {
   "attachments": {},
   "cell_type": "markdown",
   "metadata": {},
   "source": [
    "# Exercício 2\n",
    "#### 1. Vamos criar nosso primeiro script 💪, que:\n",
    "\n",
    "Armazene em uma variavel o nome do cliente, a variável precisa se chamar cliente_nome e o nome do cliente você pode usar sua criatividade.\n",
    "\n",
    "Crie uma variável que armazene a idade do cliente, a variável precisa se chamar cliente_idade.\n",
    "\n",
    "Exiba na tela as 2 variáveis e apenas uma variável por linha. Ex: \"O nome do Cliente é: Nathan Pereira\"."
   ]
  },
  {
   "cell_type": "code",
   "execution_count": 24,
   "metadata": {},
   "outputs": [
    {
     "name": "stdout",
     "output_type": "stream",
     "text": [
      "Nome do cliente: Gabriel Gonçalves de brito\n",
      "A idade do cliente: 25\n"
     ]
    }
   ],
   "source": [
    "cliente_nome='Gabriel Gonçalves de brito'\n",
    "cliente_idade= 25\n",
    "\n",
    "print('Nome do cliente:', cliente_nome)\n",
    "print('A idade do cliente:', cliente_idade)"
   ]
  },
  {
   "attachments": {},
   "cell_type": "markdown",
   "metadata": {},
   "source": [
    "#### 2. Agora que você já criou seu primeiro script vamos aumentar a dificuldade!\n",
    "Agora é o cliente que vai colocar as informações! Crie uma variável que receba como input o nome e a idade do cliente!\n",
    "Para ajudar o usuário exiba, essas variáveis na tela."
   ]
  },
  {
   "cell_type": "code",
   "execution_count": 3,
   "metadata": {},
   "outputs": [
    {
     "name": "stdout",
     "output_type": "stream",
     "text": [
      "O nome do clinte é: Gabriel Gonçalves de Brito\n",
      "A idade do cliente é: 25\n"
     ]
    }
   ],
   "source": [
    "cliente= input('Qual seu nome?\\n')\n",
    "idade= input('Qual a sua idade?\\n')\n",
    "\n",
    "print('O nome do clinte é:', cliente)\n",
    "print('A idade do cliente é:', idade)"
   ]
  },
  {
   "attachments": {},
   "cell_type": "markdown",
   "metadata": {},
   "source": [
    "#### 3. Vamos brincar com mais variáveis agora?!\n",
    "Crie uma variável do tipo FLOAT que vai armazenar o valor do produto, que receberá o valor de 25.30!\n",
    "Crie uma variável do tipo BOOL que vai armazenar se ele é ou não um cliente premium, recebendo o valor de True.\n",
    "Agora exiba essas variáveis na tela.\n",
    "Exiba também o tipo dessas variáveis."
   ]
  },
  {
   "cell_type": "code",
   "execution_count": 20,
   "metadata": {},
   "outputs": [
    {
     "name": "stdout",
     "output_type": "stream",
     "text": [
      "O valor do produto é: 25.3\n",
      "O tipo da variável produto-valor é: <class 'float'>\n",
      "O cliente é premium? True\n",
      "O tipo da variável cliemte_premium é: <class 'bool'>\n",
      "\n",
      "o valor do produto é: ,produto_valor 25.3 <class 'float'>\n",
      "o cliente é premium? True <class 'bool'>\n"
     ]
    }
   ],
   "source": [
    "produto_valor=25.30\n",
    "cliente_premium=True\n",
    "\n",
    "print('O valor do produto é:', produto_valor)\n",
    "print ('O tipo da variável produto-valor é:', type( produto_valor))\n",
    "print('O cliente é premium?', cliente_premium)\n",
    "print('O tipo da variável cliemte_premium é:', type(cliente_premium))\n",
    "print()\n",
    "\n",
    "print('o valor do produto é: ,produto_valor', produto_valor, type (produto_valor))\n",
    "print('o cliente é premium?', cliente_premium, type(cliente_premium))"
   ]
  },
  {
   "attachments": {},
   "cell_type": "markdown",
   "metadata": {},
   "source": [
    "### tipos de dados\n",
    "\n",
    "*str:* cadeia de caracteres= ']~´[@', '7', 'Gabriel'\n",
    "\n",
    "*int:* inteiro= 5, 10, 25\n",
    "\n",
    "*float:* real= 5.3, 25.3\n",
    "\n",
    "*bool:* booleanos= true, false\n",
    "\n",
    "\n",
    "### funções\n",
    "\n",
    "**print()=** imprimr uma frase\n",
    "\n",
    "**type()=** verifica o tipo de dado de uma variável\n",
    "\n",
    "**input()=** pede pro usuário fornecer um valor (str)"
   ]
  },
  {
   "attachments": {},
   "cell_type": "markdown",
   "metadata": {},
   "source": [
    "# plote as variáveis a baixo:\n",
    "## a = 245\n",
    "## b = 2.835895"
   ]
  },
  {
   "cell_type": "code",
   "execution_count": 41,
   "metadata": {},
   "outputs": [
    {
     "name": "stdout",
     "output_type": "stream",
     "text": [
      "|        245 | e |      2.836 |\n"
     ]
    }
   ],
   "source": [
    "a = 245\n",
    "b = 2.835895\n",
    "\n",
    "print('| {0:10} | e | {1:10.3f} |'.format(a, b))"
   ]
  },
  {
   "attachments": {},
   "cell_type": "markdown",
   "metadata": {},
   "source": [
    "### Fui numa hamburgueria e comprei 2 lanches de 10,90 cada, 3 refris de 4,50 cada e 1 batata por 8,45.\n",
    "### O pagamento foi no dinheiro com notas de 10 reais e 5 reais. perguntas\n",
    "1. Qual foi o valor total da conta?\n",
    "2. Quantas notas de 10 reais eu usei?\n",
    "3. Quantas notas de 5 reais eu usei?\n",
    "4. Quanto voltou de troco para mim em notas?\n",
    "5. Qunato voltou de troco para mim em moedas?"
   ]
  },
  {
   "cell_type": "code",
   "execution_count": 38,
   "metadata": {},
   "outputs": [
    {
     "name": "stdout",
     "output_type": "stream",
     "text": [
      "O valor da conta foi de: R$ 43.75\n",
      "Você tera que utilizar: 4 notas de R$ 10,00\n",
      "Você utilizara 1 notas de R$ 5,00\n",
      "Eu recebi 0 notas de R$ 2,00\n",
      "Vou receber R$ 1.75 em moedas\n"
     ]
    }
   ],
   "source": [
    "qunatidadeLanche=2\n",
    "quantidadeRefri=3\n",
    "quantidadebatata=1\n",
    "valorlanche=10.9\n",
    "valorRefri=4.5\n",
    "valorBatata=8.45\n",
    "\n",
    "valorTotal= qunatidadeLanche * valorlanche + quantidadeRefri * valorRefri + quantidadebatata * valorBatata\n",
    "\n",
    "print('O valor da conta foi de: R$ {}'.format(valorTotal))\n",
    "\n",
    "notas10=valorTotal // 10\n",
    "\n",
    "print('Você tera que utilizar: {} notas de R$ 10,00'.format(int(notas10)))\n",
    "\n",
    "valorFalta = valorTotal - notas10 * 10 \n",
    "notas5 = valorFalta // 5 + 1\n",
    "valorFalta= valorFalta - notas5\n",
    "\n",
    "print('Você utilizara {} notas de R$ 5,00'. format (int(notas5)))\n",
    "\n",
    "valorFalta = valorFalta - notas5\n",
    "notas2= valorFalta // 2\n",
    "\n",
    "\n",
    "print('Eu recebi {} notas de R$ 2,00'.format(int(notas2)))\n",
    "\n",
    "valorMoeda= valorFalta - 0\n",
    "\n",
    "print('Vou receber R$ {} em moedas'.format(valorMoeda))\n"
   ]
  },
  {
   "attachments": {},
   "cell_type": "markdown",
   "metadata": {},
   "source": [
    "# Exercícios\n",
    "## Exercício 1:\n",
    "#### Vamos testar os comportamentos dos diferentes operadores aritméticos. Para isso vamos montar uma calculadora, eai? Bora, vamos nessa?\n",
    "\n",
    "Criar variáveis n1 e n2 que receberão inputs do tipo INT do usuário. (não se esqueça de tratar o que está sendo recebido rsrs) Exibir o resultado da Adição dessas 2 variáveis. Exibir o resultado da Subtração dessas variáveis. Exibir o resultado da Multiplicação dessas variáveis. Exibir o resultado da Divisão dessas variáveis. Exibir o resultado do Módulo (Resto da divisão) entre essas variáveis. Exibir o resultado de uma variável Exponenciando a outra. [ ]"
   ]
  },
  {
   "cell_type": "code",
   "execution_count": 2,
   "metadata": {},
   "outputs": [
    {
     "name": "stdout",
     "output_type": "stream",
     "text": [
      "n1: 7 \n",
      "n2: 5\n",
      "12\n",
      "2\n",
      "35\n",
      "1.4\n",
      "1\n",
      "2\n"
     ]
    }
   ],
   "source": [
    "n1=int(input(\"igite um valor inteiro\"))\n",
    "n2=int(input('informe mais um valor inteiro'))\n",
    "\n",
    "print ('n1:',n1,\n",
    "'\\nn2:',n2)\n",
    "print (n1+n2)\n",
    "print (n1-n2)\n",
    "print (n1*n2)\n",
    "print (n1/n2)\n",
    "print (n1//n2)\n",
    "print (n1%n2)"
   ]
  },
  {
   "attachments": {},
   "cell_type": "markdown",
   "metadata": {},
   "source": [
    "## Exercício 2:\n",
    "Faça um programa que o usuário digita um valor inteiro e nós mostramos toda a tabuada daquele número."
   ]
  },
  {
   "cell_type": "code",
   "execution_count": 42,
   "metadata": {},
   "outputs": [
    {
     "name": "stdout",
     "output_type": "stream",
     "text": [
      "18 * 1 = 18\n",
      "18 * 2 = 36\n",
      "18 * 3 = 54\n",
      "18 * 4 = 72\n",
      "18 * 5 = 90\n",
      "18 * 6 = 108\n",
      "18 * 7 = 126\n",
      "18 * 8 = 144\n",
      "18 * 9 = 162\n",
      "18 * 10 = 180\n",
      "chegamos ao fim, até a proxima\n"
     ]
    }
   ],
   "source": [
    "contador = 0\n",
    "valor=int(input('informe um valor inteiro\\n'))\n",
    "while True:\n",
    "    if contador < 10:\n",
    "        contador = contador + 1\n",
    "        if contador :\n",
    "            print(('{} * {} = {}'.format(valor, contador, valor*contador)))\n",
    "    else:\n",
    "        break\n",
    "print(\"chegamos ao fim, até a proxima\")"
   ]
  },
  {
   "attachments": {},
   "cell_type": "markdown",
   "metadata": {},
   "source": [
    "## Exercício 3:\n",
    "Faça um programa no qual o usuário digite a distância percorrida por um carro e a qtd de litros de combustível gasto.\n",
    "Calcule e mostre para o usuário quantos km/l o seu carro faz."
   ]
  },
  {
   "cell_type": "code",
   "execution_count": 45,
   "metadata": {},
   "outputs": [
    {
     "name": "stdout",
     "output_type": "stream",
     "text": [
      "Seu carro faz 16.67km/L\n"
     ]
    }
   ],
   "source": [
    "quilometros=int(input('Quantos km você percorreu com seu carro? \\n'))\n",
    "litrosConbustivel=int(input('Quantos litros de conbustível foi gastos?\\n'))\n",
    "km_L= quilometros / litrosConbustivel\n",
    "print('Seu carro faz {:.2f}km/L'.format(km_L))"
   ]
  }
 ],
 "metadata": {
  "kernelspec": {
   "display_name": "Python 3",
   "language": "python",
   "name": "python3"
  },
  "language_info": {
   "codemirror_mode": {
    "name": "ipython",
    "version": 3
   },
   "file_extension": ".py",
   "mimetype": "text/x-python",
   "name": "python",
   "nbconvert_exporter": "python",
   "pygments_lexer": "ipython3",
   "version": "3.10.9"
  },
  "orig_nbformat": 4,
  "vscode": {
   "interpreter": {
    "hash": "e9e375da22a79186ffe49072ae6df2c8be50fc2c627f3d12cad18e70942528a3"
   }
  }
 },
 "nbformat": 4,
 "nbformat_minor": 2
}
