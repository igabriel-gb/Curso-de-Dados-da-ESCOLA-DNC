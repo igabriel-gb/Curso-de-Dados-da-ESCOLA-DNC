{
 "cells": [
  {
   "attachments": {},
   "cell_type": "markdown",
   "metadata": {},
   "source": [
    "# OPERADORES\n"
   ]
  },
  {
   "cell_type": "code",
   "execution_count": 17,
   "metadata": {},
   "outputs": [
    {
     "name": "stdout",
     "output_type": "stream",
     "text": [
      "adição   5 + 7 = 12\n",
      "<class 'int'>\n",
      "--------------------\n",
      "subtração    5 - 7 = -2\n",
      "<class 'int'>\n",
      "--------------------\n",
      "multiplicação    5 * 7 = 35\n",
      "<class 'int'>\n",
      "--------------------\n",
      "divisão    5 / 7 = 0.7142857142857143\n",
      "<class 'float'>\n",
      "0.71\n",
      "--------------------\n",
      "potenciação    5 ** 7 = 78125\n",
      "<class 'int'>\n",
      "--------------------\n",
      "divisão inteira    5 // 7 = 0\n",
      "<class 'int'>\n",
      "--------------------\n",
      "resto da divisão    5 % 7 = 5\n",
      "<class 'int'>\n",
      "\n",
      "----------------------------------------\n",
      "\n",
      "Gabriel Gonçalves de brito\n",
      "Olá Olá Olá Olá Olá Olá Olá Olá Olá Olá \n",
      "-----------------------------------------------------------------\n",
      "           Seja Bem Vindo ao Curso de Python da DNC\n",
      "-----------------------------------------------------------------\n"
     ]
    }
   ],
   "source": [
    "a=5\n",
    "b=7\n",
    "\n",
    "print('adição  ', a, '+', b, '=', a+b)\n",
    "print(type(a+b))\n",
    "\n",
    "print('-'*20)\n",
    "\n",
    "print('subtração   ', a, '-', b,'=', a-b)\n",
    "print(type(a-b))\n",
    "\n",
    "print('-'*20)\n",
    "\n",
    "print('multiplicação   ', a,'*',b, '=', a*b)\n",
    "print(type(a*b))\n",
    "\n",
    "print('-'*20)\n",
    "\n",
    "print('divisão   ',a,'/',b, '=',a/b)\n",
    "print(type(a/b))\n",
    "print( '{:.2f}'.format(a/b))\n",
    "\n",
    "print('-'*20)\n",
    "\n",
    "print('potenciação   ',a,'**',b, '=',a**b)\n",
    "print(type(a**b))\n",
    "\n",
    "print('-'*20)\n",
    "\n",
    "print('divisão inteira   ',a,'//',b, '=',a//b)\n",
    "print(type(a//b))\n",
    "\n",
    "print('-'*20)\n",
    "\n",
    "print('resto da divisão   ',a,'%',b, '=',a%b)\n",
    "print(type(a%b))\n",
    "\n",
    "print()\n",
    "print('-'*40)\n",
    "print()\n",
    "\n",
    "nomePrimeiro='Gabriel '\n",
    "nomeMeio='Gonçalves de '\n",
    "nomeutimo='brito'\n",
    "\n",
    "nomeConpleto=nomePrimeiro+nomeMeio+nomeutimo\n",
    "\n",
    "print(nomeConpleto)\n",
    "\n",
    "print('Olá '*10)\n",
    "\n",
    "print('-'*65)\n",
    "print(' '*10,'Seja Bem Vindo ao Curso de Python da DNC',)\n",
    "print('-'*65)"
   ]
  },
  {
   "cell_type": "code",
   "execution_count": 22,
   "metadata": {},
   "outputs": [
    {
     "name": "stdout",
     "output_type": "stream",
     "text": [
      "32.56\n",
      "66.40\n",
      "19906.56\n",
      "359806783671586240.00\n"
     ]
    }
   ],
   "source": [
    "a=6\n",
    "b=4\n",
    "c=4.86\n",
    "d=6.64\n",
    "\n",
    "# Quanto é: a + b * d\n",
    "print(a+b*d)\n",
    "\n",
    "\n",
    "# Quanto é: (a + b) * d\n",
    "print('{:.2f}'.format((a+b)*d))\n",
    "\n",
    "\n",
    "# Quanto é: b ** a * c\n",
    "print(b**a*c)\n",
    "\n",
    "\n",
    "# Quanto é: b ** (a * c)\n",
    "print('{:.2f}'.format(b**(a*c)))"
   ]
  },
  {
   "cell_type": "code",
   "execution_count": 23,
   "metadata": {},
   "outputs": [
    {
     "name": "stdout",
     "output_type": "stream",
     "text": [
      "##########\n"
     ]
    }
   ],
   "source": [
    "print('#'*10)"
   ]
  },
  {
   "attachments": {},
   "cell_type": "markdown",
   "metadata": {},
   "source": [
    "## Exemplo\n",
    " dado as variáveis:\n",
    " a=2\n",
    " b=3\n",
    " complete e mostre para o usuário se uma é igual a outra, ou se uma e maior, e neste caso qual é a maior."
   ]
  },
  {
   "cell_type": "code",
   "execution_count": 3,
   "metadata": {},
   "outputs": [
    {
     "name": "stdout",
     "output_type": "stream",
     "text": [
      "a e igual a b\n"
     ]
    }
   ],
   "source": [
    "a= int(print('digite um valor: '))\n",
    "b= int(print('digite outro valor: '))\n",
    "\n",
    "if a == b:\n",
    "    print ('A e igual a B')\n",
    "elif a<b:\n",
    "    print ('A e menor que B')\n",
    "else:\n",
    "    print('B e menor que A')\n",
    "print('fim, ate a proxima')"
   ]
  },
  {
   "attachments": {},
   "cell_type": "markdown",
   "metadata": {},
   "source": [
    "## Exenplo 2\n",
    "Agor afaça um programa no qual o usuário vai digitar os 2 números e você fará essas comparações."
   ]
  },
  {
   "cell_type": "code",
   "execution_count": 16,
   "metadata": {},
   "outputs": [
    {
     "name": "stdout",
     "output_type": "stream",
     "text": [
      " A e igual a B\n"
     ]
    }
   ],
   "source": [
    "a= float(input('digite um numero: '))\n",
    "b= float( input('digite outro valor: '))\n",
    "if a == b:\n",
    "    print(' A e igual a B')\n",
    "elif a > b:\n",
    "    print('A e maior que B')\n",
    "else:\n",
    "    ( print(' prit B e maior que'))"
   ]
  },
  {
   "attachments": {},
   "cell_type": "markdown",
   "metadata": {},
   "source": [
    "## Exenplo 3\n",
    "faça um programa que o usoario vai digitar a vontade que ele esta de comer alguma coisa.\n",
    "caso este input seja:\n",
    "lanche: entao inprima: Vá ao méqui\n",
    "pizza: ventão imprima: vá ao hut\n",
    "mexicano: então imprima: Vá ao bell\n",
    "caso contrario: então imprima: tente novamente"
   ]
  },
  {
   "cell_type": "code",
   "execution_count": 12,
   "metadata": {},
   "outputs": [
    {
     "name": "stdout",
     "output_type": "stream",
     "text": [
      "Va ao hut\n"
     ]
    }
   ],
   "source": [
    "comer= input('Você que comer um Lanche, pizza ou mechicano?\\n')[0].lower()\n",
    "if comer=='l':\n",
    "    print('Vá ao méqui, e aproveite as oferatas')\n",
    "elif comer=='p':\n",
    "    print('Vá ao hut comer pizza')\n",
    "elif comer=='m':\n",
    "    print ('Vá ao bell, e cuidado com a pimenta')\n",
    "else:\n",
    "    print(' tente nova mente')\n"
   ]
  },
  {
   "attachments": {},
   "cell_type": "markdown",
   "metadata": {},
   "source": [
    "## Exemplo 1\n",
    "se eu tiverr mais que 20 reais e o preço do lanche for igual ou menor que 10 reais, então eu compro o lanche"
   ]
  },
  {
   "cell_type": "code",
   "execution_count": 20,
   "metadata": {},
   "outputs": [
    {
     "name": "stdout",
     "output_type": "stream",
     "text": [
      "não compre o lanche.\n"
     ]
    }
   ],
   "source": [
    "preco_do_lanche=float(input('qual o preço do lanche?'))\n",
    "valor_na_carteira=float(input('quanto você tem de dinheiro?'))\n",
    "\n",
    "if valor_na_carteira >= 20 and preco_do_lanche <= 10:\n",
    "    print('compre o lanche.')\n",
    "else:\n",
    "    print('não compre o lanche.')"
   ]
  },
  {
   "attachments": {},
   "cell_type": "markdown",
   "metadata": {},
   "source": [
    "## Exemplo \n",
    "Se você tiver média nas notas >7 ou nota na prova final >7 você esta aprovado"
   ]
  },
  {
   "cell_type": "code",
   "execution_count": 21,
   "metadata": {},
   "outputs": [
    {
     "name": "stdout",
     "output_type": "stream",
     "text": [
      "Você esta aprovado\n"
     ]
    }
   ],
   "source": [
    "media = float(input('Qual a sua nota média?\\n'))\n",
    "prova = float(input('Qual sua nota da prova\\n?'))\n",
    "\n",
    "if media >= 7 or prova >=7:\n",
    "    print ('Você esta aprovado')\n",
    "else:\n",
    "    print('Você esta reprovado')"
   ]
  },
  {
   "attachments": {},
   "cell_type": "markdown",
   "metadata": {},
   "source": [
    "# Verificando variáveir\n",
    " \n",
    " Esta funcionabilidade é muito usada para testar e saber se podemos converter as variaveis dadas pelo usuário.\n",
    "\n",
    "\n",
    " 1.     .isnumeric( ): o input é numérico\n",
    " 2.     .isalpha( ): o input é texto\n",
    " 3.     .isalnum( ) o input é texto e numérico"
   ]
  },
  {
   "cell_type": "code",
   "execution_count": 25,
   "metadata": {},
   "outputs": [
    {
     "name": "stdout",
     "output_type": "stream",
     "text": [
      "False\n",
      "False\n",
      "True\n"
     ]
    }
   ],
   "source": [
    "entrada= input('digite qualquer cousa')\n",
    "\n",
    "numero=entrada.isnumeric()\n",
    "texto=entrada.isalpha()\n",
    "textoEnumero=entrada.isalnum()\n",
    "print(numero)\n",
    "print(texto)\n",
    "print(textoEnumero)"
   ]
  },
  {
   "attachments": {},
   "cell_type": "markdown",
   "metadata": {},
   "source": [
    "# estrutura de repetição"
   ]
  },
  {
   "cell_type": "code",
   "execution_count": 5,
   "metadata": {},
   "outputs": [
    {
     "name": "stdout",
     "output_type": "stream",
     "text": [
      "1\n",
      "2\n",
      "3\n",
      "4\n",
      "5\n",
      "6\n",
      "7\n",
      "fim\n"
     ]
    }
   ],
   "source": [
    "for variavel in range(1,8):\n",
    "    print('{}'. format(variavel))\n",
    "print ('fim')"
   ]
  },
  {
   "cell_type": "code",
   "execution_count": 7,
   "metadata": {},
   "outputs": [
    {
     "name": "stdout",
     "output_type": "stream",
     "text": [
      "0\n",
      "20\n",
      "40\n",
      "60\n",
      "80\n",
      "100\n",
      "120\n",
      "140\n",
      "fim\n"
     ]
    }
   ],
   "source": [
    "for variavel in range(0, 150, 20):\n",
    "    print(f'{variavel}')\n",
    "print ('fim')"
   ]
  },
  {
   "cell_type": "code",
   "execution_count": 10,
   "metadata": {},
   "outputs": [
    {
     "name": "stdout",
     "output_type": "stream",
     "text": [
      "Ler pagina\n",
      "Ler pagina\n",
      "Ler pagina\n",
      "Ler pagina\n",
      "Ler pagina\n",
      "Ler pagina\n",
      "fim\n"
     ]
    }
   ],
   "source": [
    "fim='n'\n",
    "while fim == 'n':\n",
    "    print('Ler pagina')\n",
    "    fim = input('terminou? ')[0]\n",
    "print(\"fim\")"
   ]
  },
  {
   "cell_type": "code",
   "execution_count": 11,
   "metadata": {},
   "outputs": [
    {
     "name": "stdout",
     "output_type": "stream",
     "text": [
      "A soma final foi de 49\n"
     ]
    }
   ],
   "source": [
    "soma=0\n",
    "while soma<30:\n",
    "    n=int(input('digite um número: '))\n",
    "    soma += n\n",
    "print(f'A soma final foi de {soma}')"
   ]
  },
  {
   "cell_type": "code",
   "execution_count": 14,
   "metadata": {},
   "outputs": [
    {
     "name": "stdout",
     "output_type": "stream",
     "text": [
      "A soma foi de:  6632\n"
     ]
    }
   ],
   "source": [
    "soma = 0\n",
    "while True:\n",
    "    n=int(input('digite um valor: '))\n",
    "    soma += n \n",
    "    b= input('deseja continuar? ')[0]\n",
    "    if b == 'n':\n",
    "        break\n",
    "\n",
    "print('A soma foi de:  {}'.format(soma))"
   ]
  },
  {
   "attachments": {},
   "cell_type": "markdown",
   "metadata": {},
   "source": [
    "## Exemplo 1\n",
    "Imprima \"Olá\" cinco vezes seguidas."
   ]
  },
  {
   "cell_type": "code",
   "execution_count": 17,
   "metadata": {},
   "outputs": [
    {
     "name": "stdout",
     "output_type": "stream",
     "text": [
      "1, Olá\n",
      "2, Olá\n",
      "3, Olá\n",
      "4, Olá\n",
      "5, Olá\n"
     ]
    }
   ],
   "source": [
    "passo = range(1,6)\n",
    "\n",
    "# O i e uma variavel que vai servir com contador\n",
    "for i in passo:\n",
    "    print(f'{i}, Olá')"
   ]
  },
  {
   "attachments": {},
   "cell_type": "markdown",
   "metadata": {},
   "source": [
    "## Exemplo 2\n",
    "Ler um livro de 10 páginas"
   ]
  },
  {
   "cell_type": "code",
   "execution_count": 19,
   "metadata": {},
   "outputs": [
    {
     "name": "stdout",
     "output_type": "stream",
     "text": [
      "ler pagina 1\n",
      "ler pagina 2\n",
      "ler pagina 3\n",
      "ler pagina 4\n",
      "ler pagina 5\n",
      "ler pagina 6\n",
      "ler pagina 7\n",
      "ler pagina 8\n",
      "ler pagina 9\n",
      "ler pagina 10\n",
      "fim\n"
     ]
    }
   ],
   "source": [
    "contidade=range(1,11)\n",
    "for h in contidade:\n",
    "    print ('ler pagina {}'.format(h))\n",
    "print ('fim')"
   ]
  },
  {
   "attachments": {},
   "cell_type": "markdown",
   "metadata": {},
   "source": [
    "## Exemplo 3\n",
    "Some 5 números digitados pelo usuário."
   ]
  },
  {
   "cell_type": "code",
   "execution_count": 2,
   "metadata": {},
   "outputs": [
    {
     "name": "stdout",
     "output_type": "stream",
     "text": [
      "A soma chegou ao fim  65\n"
     ]
    }
   ],
   "source": [
    "contidade=range(1,6)\n",
    "som=0\n",
    "for j in contidade:\n",
    "    n=int(input('digitr um valor: '))\n",
    "    som += n\n",
    "print (f'A soma chegou ao fim  {som}')"
   ]
  },
  {
   "attachments": {},
   "cell_type": "markdown",
   "metadata": {},
   "source": [
    "# Estrutura do passo\n",
    "### range(inicio, fim, passo)\n",
    "início: número inicial do range\n",
    "\n",
    "fim: número final do range\n",
    "\n",
    "passo: de quanto em quanto o valor será incrementado\n",
    "\n",
    "## Exemplo 1\n",
    "\n",
    "range(0,10,2)"
   ]
  },
  {
   "cell_type": "code",
   "execution_count": 3,
   "metadata": {},
   "outputs": [
    {
     "name": "stdout",
     "output_type": "stream",
     "text": [
      "0\n",
      "2\n",
      "4\n",
      "6\n",
      "8\n",
      "10\n",
      "Chegamos ao fim.\n"
     ]
    }
   ],
   "source": [
    "inicio= range(0,11,2)\n",
    "for i in inicio:\n",
    "    print(i)\n",
    "print ('Chegamos ao fim.')"
   ]
  },
  {
   "attachments": {},
   "cell_type": "markdown",
   "metadata": {},
   "source": [
    "## Exemplo 2\n",
    "Começando pelo número 2, multiplique ele por 2 nove vezes consecutivas"
   ]
  },
  {
   "cell_type": "code",
   "execution_count": null,
   "metadata": {},
   "outputs": [],
   "source": [
    "base = range (1,10)\n",
    "estrutura=0\n",
    "for i in base:\n",
    "    estrutura += i\n",
    "    print('{}'.format(estrutura*2))"
   ]
  },
  {
   "attachments": {},
   "cell_type": "markdown",
   "metadata": {},
   "source": [
    "# Usando while\n",
    "\n",
    "## Exemplo 1\n",
    "quero ler um capítulo de um livro, mas não sei quantas páginas possui este cápitulo"
   ]
  },
  {
   "cell_type": "code",
   "execution_count": 11,
   "metadata": {},
   "outputs": [
    {
     "name": "stdout",
     "output_type": "stream",
     "text": [
      "ler pagina\n",
      "ler pagina\n",
      "ler pagina\n",
      "ler pagina\n",
      "Fim\n"
     ]
    }
   ],
   "source": [
    "fim='n'\n",
    "\n",
    "while fim == 'n':\n",
    "    print('ler pagina')\n",
    "    fim=input('você terminou de ler (s/n):')[0]\n",
    "print ('Fim')"
   ]
  },
  {
   "attachments": {},
   "cell_type": "markdown",
   "metadata": {},
   "source": [
    "## Exemplo 2\n",
    "Começando pelo número 1, some 1 a ele 10 vezes consecutivas"
   ]
  },
  {
   "cell_type": "code",
   "execution_count": 12,
   "metadata": {},
   "outputs": [
    {
     "name": "stdout",
     "output_type": "stream",
     "text": [
      "2\n",
      "3\n",
      "4\n",
      "5\n",
      "6\n",
      "7\n",
      "8\n",
      "9\n",
      "10\n"
     ]
    }
   ],
   "source": [
    "soma = 1\n",
    "i=1\n",
    "\n",
    "while i < 10:\n",
    "    i+=1\n",
    "    soma += 1\n",
    "    print(soma)"
   ]
  },
  {
   "attachments": {},
   "cell_type": "markdown",
   "metadata": {},
   "source": [
    "# break\n",
    "O comando break é utilizado para sairmos de um loop em qualquer momento. Ele é muito utilizado quando:\n",
    "\n",
    "\n",
    "Já atingimos o objetivo.\n",
    "\n",
    "O usuário pediu para parar o loop.\n",
    "\n",
    "Já que ele sempre finaliza o looping no exato ponto que ele estava ele geralmente é utilizado junto com o comando if para testar se precisamos ou não parar o looping.\n",
    "\n",
    "# Exemplo de looping infinito\n",
    "Some os números que o usuário digitar"
   ]
  },
  {
   "cell_type": "code",
   "execution_count": 13,
   "metadata": {},
   "outputs": [
    {
     "ename": "ValueError",
     "evalue": "invalid literal for int() with base 10: 'f'",
     "output_type": "error",
     "traceback": [
      "\u001b[1;31m---------------------------------------------------------------------------\u001b[0m",
      "\u001b[1;31mValueError\u001b[0m                                Traceback (most recent call last)",
      "Cell \u001b[1;32mIn[13], line 3\u001b[0m\n\u001b[0;32m      1\u001b[0m soma \u001b[39m=\u001b[39m \u001b[39m0\u001b[39m\n\u001b[0;32m      2\u001b[0m \u001b[39mwhile\u001b[39;00m \u001b[39mTrue\u001b[39;00m:\n\u001b[1;32m----> 3\u001b[0m     n\u001b[39m=\u001b[39m \u001b[39mint\u001b[39;49m(\u001b[39minput\u001b[39;49m(\u001b[39m'\u001b[39;49m\u001b[39mdigite um valor: \u001b[39;49m\u001b[39m'\u001b[39;49m))\n\u001b[0;32m      4\u001b[0m     soma \u001b[39m+\u001b[39m\u001b[39m=\u001b[39m n\n\u001b[0;32m      5\u001b[0m \u001b[39mprint\u001b[39m (soma)\n",
      "\u001b[1;31mValueError\u001b[0m: invalid literal for int() with base 10: 'f'"
     ]
    }
   ],
   "source": [
    "soma = 0\n",
    "while True:\n",
    "    n= int(input('digite um valor: '))\n",
    "    soma += n\n",
    "print (soma)"
   ]
  },
  {
   "attachments": {},
   "cell_type": "markdown",
   "metadata": {},
   "source": [
    "# Exemplo de looping infinito corrigido\n",
    "Some os números que o usuário digitar até ele pedir para parar."
   ]
  },
  {
   "cell_type": "code",
   "execution_count": 14,
   "metadata": {},
   "outputs": [
    {
     "name": "stdout",
     "output_type": "stream",
     "text": [
      "1026\n"
     ]
    }
   ],
   "source": [
    "soma = 0\n",
    "while True:\n",
    "    n=int(input('digite um valor: '))\n",
    "    soma += n\n",
    "    continuar=input('deseja continuar(s/n):  ')\n",
    "    if continuar == 'n':\n",
    "        break\n",
    "print(soma)"
   ]
  },
  {
   "attachments": {},
   "cell_type": "markdown",
   "metadata": {},
   "source": [
    "\n",
    "## Exemplo 1\n",
    "Peça para o usuário digitar um número. Valide o que ele digitou, caso não seja um número, peça pra ele digitar de novo."
   ]
  },
  {
   "cell_type": "code",
   "execution_count": 15,
   "metadata": {},
   "outputs": [
    {
     "name": "stdout",
     "output_type": "stream",
     "text": [
      "você nao digitou um numero valodo, tente novamente\n",
      "você nao digitou um numero valodo, tente novamente\n",
      "você nao digitou um numero valodo, tente novamente\n",
      "você digitou um numero valido\n",
      "o numero digitado foi  1\n"
     ]
    }
   ],
   "source": [
    "while True:\n",
    "    num=input('digite um numero:  ')\n",
    "    if num.isnumeric()==True:\n",
    "        print ('você digitou um numero valido')\n",
    "        break\n",
    "    print('você nao digitou um numero valodo, tente novamente')\n",
    "print ('o numero digitado foi',num)"
   ]
  },
  {
   "attachments": {},
   "cell_type": "markdown",
   "metadata": {},
   "source": [
    "# Exemplo 2\n",
    "Faça um programa que calcula a média de valores digitados pelo usuário até o usuário pedir para parar de inserir números"
   ]
  },
  {
   "cell_type": "code",
   "execution_count": 16,
   "metadata": {},
   "outputs": [
    {
     "name": "stdout",
     "output_type": "stream",
     "text": [
      " a media digitada foi de 53.2\n"
     ]
    }
   ],
   "source": [
    "soma = 0\n",
    "i=0\n",
    "while True:\n",
    "    i +=1\n",
    "    num = float(input('digite um número: '))\n",
    "    soma += num\n",
    "    continuar = input('voce quer continuar?')[0]\n",
    "    if continuar == 'n':\n",
    "        break\n",
    "media=soma / i\n",
    "print(f' a media digitada foi de {media :.2f}')"
   ]
  },
  {
   "attachments": {},
   "cell_type": "markdown",
   "metadata": {},
   "source": [
    "# TUPLAS\n",
    "# COMO DECLARAR"
   ]
  },
  {
   "cell_type": "code",
   "execution_count": 47,
   "metadata": {},
   "outputs": [
    {
     "name": "stdout",
     "output_type": "stream",
     "text": [
      "('lanche', 'batata', 'refri')\n",
      "batata\n",
      "lanche refri\n",
      "----------------------------------------------------------------------\n",
      "(2, 5, 7, 9, 6, 5)\n",
      "2 9\n",
      "--------------------\n",
      "(2, 5, 7)\n",
      "(7, 9)\n",
      "--------------------\n",
      "(7, 9, 6, 5)\n",
      "--------------------\n",
      "(2, 5, 7)\n",
      "--------------------\n",
      "5\n",
      "i = 2 o valor da tupla\n",
      "i = 5 o valor da tupla\n",
      "i = 7 o valor da tupla\n",
      "i = 9 o valor da tupla\n",
      "i = 6 o valor da tupla\n",
      "i = 5 o valor da tupla\n",
      "fim\n",
      "--------------------------------------------------------------------------------\n",
      "soma = 34\n"
     ]
    }
   ],
   "source": [
    "a=('lanche', 'batata', 'refri')\n",
    "\n",
    "print(a)\n",
    "print(a[1])\n",
    "print (a[0], a[2])\n",
    "\n",
    "\n",
    "print('-'*70)\n",
    "\n",
    "\n",
    "c=(2,5,7,9,6,5)\n",
    "\n",
    "print(c)\n",
    "print(c[0], c[3])\n",
    "\n",
    "\n",
    "print('-'*20)\n",
    "#acessar trmos consecutivos\n",
    "print(c[0:3])\n",
    "print(c[2:4])\n",
    "\n",
    "\n",
    "print('-'*20)\n",
    "#acessar ate o ultimo \n",
    "print(c[2:])\n",
    "\n",
    "\n",
    "print('-'*20)\n",
    "# acessa termos do primeiro ate o desejavel\n",
    "print(c[:3])\n",
    "\n",
    "\n",
    "print('-'*20)\n",
    "# acessar o último termo\n",
    "print(c[-1])\n",
    "\n",
    "\n",
    "\n",
    "\n",
    "for i in c:\n",
    "    print('i = {} o valor da tupla'. format(i))\n",
    "print('fim')\n",
    "\n",
    "\n",
    "\n",
    "print('-'*80)\n",
    "\n",
    "\n",
    "soma=0\n",
    "for a in c:\n",
    "    soma +=a\n",
    "print('soma = {}'.format(soma))"
   ]
  },
  {
   "cell_type": "code",
   "execution_count": 44,
   "metadata": {},
   "outputs": [
    {
     "name": "stdout",
     "output_type": "stream",
     "text": [
      "5\n",
      "[0, 2, 4, 6, 8]\n",
      "3\n",
      "5\n",
      "2\n",
      "3\n"
     ]
    }
   ],
   "source": [
    "tupla1= ('lanche', 'batata', 'refri')\n",
    "tupla2= (2,5,7,9,6,5,4,0)\n",
    "tupla3= (True, False, True, True, False)\n",
    "\n",
    "tupla4=('lanche', 10.8, False)\n",
    "\n",
    "t1=(0,6,2,4,8)\n",
    "t2=(1,2,5,3,3,7,3,8,9,53)\n",
    "\n",
    "\n",
    "print(len(t1))\n",
    "print(sorted(t1))\n",
    "\n",
    "print(t2.count(3))\n",
    "print(t2.index(7))\n",
    "print(t2.index(4))\n",
    "\n",
    "print(t2.index(3,3))\n"
   ]
  },
  {
   "attachments": {},
   "cell_type": "markdown",
   "metadata": {},
   "source": [
    "## Exemplo 1\n",
    "Defina uma tupla com 3 strings e use o print para ver como ela se apresenta."
   ]
  },
  {
   "cell_type": "code",
   "execution_count": 48,
   "metadata": {},
   "outputs": [
    {
     "name": "stdout",
     "output_type": "stream",
     "text": [
      "('lanche', 'batata', 'refri')\n"
     ]
    }
   ],
   "source": [
    "t1=('lanche', 'batata', 'refri')\n",
    "\n",
    "print(t1)"
   ]
  },
  {
   "attachments": {},
   "cell_type": "markdown",
   "metadata": {},
   "source": [
    "## Exemplo 2\n",
    "Agora defina outra tupla com valores numéricos"
   ]
  },
  {
   "cell_type": "code",
   "execution_count": 49,
   "metadata": {},
   "outputs": [
    {
     "name": "stdout",
     "output_type": "stream",
     "text": [
      "(1, 3, 5, 7)\n"
     ]
    }
   ],
   "source": [
    "t2= (1, 3, 5, 7)\n",
    "\n",
    "print(t2)"
   ]
  },
  {
   "attachments": {},
   "cell_type": "markdown",
   "metadata": {},
   "source": [
    "## Exemplo 3\n",
    "Agora defina uma tupla com vários tipos de dados dentro da mesma tupla."
   ]
  },
  {
   "cell_type": "code",
   "execution_count": 50,
   "metadata": {},
   "outputs": [
    {
     "name": "stdout",
     "output_type": "stream",
     "text": [
      "('Lanche', 10.9, 3, True)\n"
     ]
    }
   ],
   "source": [
    "t3= ('Lanche', 10.9, 3, True)\n",
    " \n",
    "print(t3)"
   ]
  },
  {
   "attachments": {},
   "cell_type": "markdown",
   "metadata": {},
   "source": [
    "### Acessando seus Valores\n",
    "Para acessar os valores das tuplas, basta colocar o índice da tupla desejado entre colchetes\n",
    "\n",
    "Cada valor dentro da tupla fica salvo como um índice que começa em 0 e vai aumentando de 1 em 1 até o último termo da tupla.\n",
    "\n",
    "Então para a tupla abaixo:\n",
    "\n",
    "t2[0] == 1   \n",
    "t2[1] == 3   \n",
    "t2[2] == 5   \n",
    "t2[3] == 7   \n",
    "\n",
    "# Exemplo 1\n",
    "Para a tupla acima tente imprimir cada um dos seus valores."
   ]
  },
  {
   "cell_type": "code",
   "execution_count": 52,
   "metadata": {},
   "outputs": [
    {
     "name": "stdout",
     "output_type": "stream",
     "text": [
      " 1 \n",
      " 3 \n",
      " 5 \n",
      " 7\n"
     ]
    }
   ],
   "source": [
    "print('',t2[0],'\\n',\n",
    "t2[1],'\\n',\n",
    "t2[2],'\\n',\n",
    "t2[3])"
   ]
  },
  {
   "attachments": {},
   "cell_type": "markdown",
   "metadata": {},
   "source": [
    "# Exemplo 2\n",
    "Imprima a soma de cada valor desta tupla"
   ]
  },
  {
   "cell_type": "code",
   "execution_count": 57,
   "metadata": {},
   "outputs": [
    {
     "name": "stdout",
     "output_type": "stream",
     "text": [
      "16\n",
      "\n",
      " ----- \n",
      "\n",
      "16\n"
     ]
    }
   ],
   "source": [
    "a=sum(t2)\n",
    "print(a)\n",
    "\n",
    "print('\\n',\n",
    "'-'*5,'\\n'\n",
    "'')\n",
    "\n",
    "b=t2[0]+t2[1]+t2[2]+t2[3]\n",
    "print(b)"
   ]
  },
  {
   "attachments": {},
   "cell_type": "markdown",
   "metadata": {},
   "source": [
    "### Acessando múltiplos valores\n",
    "Também é possível acessar mais de 1 valor ao mesmo tempo colocando entre os colchetes de onde até onde você quer acessar.\n",
    "\n",
    "t2[0:2] : são os 2 primeiros valor desta tupla : 1, 3   \n",
    "t2[2:4] : são o 3º e o 4º valor desta tupla : 5, 7   \n",
    "t2[:3] : são os 3 primeiros valor desta tupla : 1, 3, 5   \n",
    "t2[2:] : é do 3º ao último termo desta tupla : 5, 7   \n",
    "t2[-1] : é último termo desta tupla : 7   \n",
    "\n",
    "Lembre-se que assim como no range o último valor dentro do colchete não é acessado.\n",
    "\n",
    "# Exemplo 3\n",
    "Vamos testar os itens acima?"
   ]
  },
  {
   "cell_type": "code",
   "execution_count": 59,
   "metadata": {},
   "outputs": [
    {
     "name": "stdout",
     "output_type": "stream",
     "text": [
      "t2[0:2] : são os 2 primritos valores desta tupla:  (1, 3)\n",
      "t2[2:4] : são o 3º e o 4º valor desta tupla :  (5, 7)\n",
      "t2[:3] : são os 3 primeiros valor desta tupla :  (1, 3, 5)\n",
      "t2[2:] : é do 3º ao último termo desta tupla :  (5, 7)\n",
      "t2[-1] : é último termo desta tupla :  7\n"
     ]
    }
   ],
   "source": [
    "print('t2[0:2] : são os 2 primritos valores desta tupla: ',t2[0:2])\n",
    "print('t2[2:4] : são o 3º e o 4º valor desta tupla : ',t2[2:4])\n",
    "print('t2[:3] : são os 3 primeiros valor desta tupla : ',t2[:3])\n",
    "print('t2[2:] : é do 3º ao último termo desta tupla : ',t2[2:])\n",
    "print('t2[-1] : é último termo desta tupla : ',t2[-1])"
   ]
  },
  {
   "attachments": {},
   "cell_type": "markdown",
   "metadata": {},
   "source": [
    "### Tipo e suas propriedades\n",
    "As tuplas são imutáveis, ou seja, a partir do momento que ela é declarada ela não pode mais mudar seus valores.\n",
    "\n",
    "# Exemplo 1\n",
    "Defina uma tupla:\n",
    "\n",
    "t2 = (1, 3, 5, 7)\n",
    "\n",
    "E em seguida tente mudar o seu terceiro valor para 8"
   ]
  },
  {
   "cell_type": "code",
   "execution_count": 60,
   "metadata": {},
   "outputs": [
    {
     "name": "stdout",
     "output_type": "stream",
     "text": [
      "(1, 3, 5, 7)\n"
     ]
    },
    {
     "ename": "TypeError",
     "evalue": "'tuple' object does not support item assignment",
     "output_type": "error",
     "traceback": [
      "\u001b[1;31m---------------------------------------------------------------------------\u001b[0m",
      "\u001b[1;31mTypeError\u001b[0m                                 Traceback (most recent call last)",
      "Cell \u001b[1;32mIn[60], line 3\u001b[0m\n\u001b[0;32m      1\u001b[0m \u001b[39mprint\u001b[39m (t2) \n\u001b[1;32m----> 3\u001b[0m t2[\u001b[39m3\u001b[39;49m]\u001b[39m+\u001b[39m\u001b[39m=\u001b[39m\u001b[39m1\u001b[39m\n\u001b[0;32m      5\u001b[0m \u001b[39mprint\u001b[39m(t2)\n",
      "\u001b[1;31mTypeError\u001b[0m: 'tuple' object does not support item assignment"
     ]
    }
   ],
   "source": [
    "print (t2) \n",
    "\n",
    "t2[3]+=1\n",
    "\n",
    "print(t2)"
   ]
  },
  {
   "attachments": {},
   "cell_type": "markdown",
   "metadata": {},
   "source": [
    "Repare no erro!!! Realmente não é possível mudar o seu valor!\n",
    "\n",
    "Então para que iremos usá-la?\n",
    "\n",
    "Já que ela é definida no começo do programa e depois não pode mais ser mudada ela é muito utilizada como variável de segurança para evitar modificações acidentais durante a execução de programas complexos.\n",
    "\n",
    "### Tipo da tupla e de seus valores   \n",
    "A tupla possui o próprio tipo: tuple. Porém os valores de cada um dos seus termos permanecem com o tipo original.\n",
    "\n",
    "Mas é claro... se pegarmos vários valores dentro da tupla ele será listado como tupla ainda!!!\n",
    "\n",
    "# Exemplo 2\n",
    "Verifique o tipo das variáveis:\n",
    "\n",
    "t3   \n",
    "t3[0]   \n",
    "t3[1]    \n",
    "t3[2]   \n",
    "t3[0:2]  \n",
    "t3[1:]   "
   ]
  },
  {
   "cell_type": "code",
   "execution_count": 66,
   "metadata": {},
   "outputs": [
    {
     "name": "stdout",
     "output_type": "stream",
     "text": [
      "('Lanche', 10.9, 3, True), tipo =  <class 'type'>\n",
      "Lanche, tipo =  <class 'type'>\n",
      "10.9, tipo =  <class 'type'>\n",
      "3, tipo =  <class 'type'>\n",
      "('Lanche', 10.9), tipo =  <class 'type'>\n",
      "(10.9, 3, True), tipo =  <class 'type'>\n"
     ]
    }
   ],
   "source": [
    "print(f'{t3}, tipo = ',type)\n",
    "print(f'{t3[0]}, tipo = ',type)\n",
    "print(f'{t3[1]}, tipo = ',type)\n",
    "print(f'{t3[2]}, tipo = ',type)\n",
    "print(f'{t3[0:2]}, tipo = ',type)\n",
    "print(f'{t3[1:]}, tipo = ',type)"
   ]
  },
  {
   "attachments": {},
   "cell_type": "markdown",
   "metadata": {},
   "source": [
    "## Funções com Tuplas\n",
    "Temos algumas funções muito usadas em tuplas:\n",
    "\n",
    "len(t1) : qtd de termos    \n",
    "sorted(t1) : ordenar      \n",
    "t1.count(valor) : contar a qtd de “valor”   \n",
    "t1.index(valor) : achar a 1ª posição de “valor”    \n",
    "t1.index(valor,pos) : achar “valor” a partir da “pos”   \n",
    "t1 + t2 : concatenar tuplas    \n",
    "\n",
    "# Exemplo 3\n",
    "## Utilizando as tuplas abaixo:\n",
    "\n",
    "t1 = ('Lanche', 'Batata', 'Refri')      \n",
    "t2 = (0, 6, 4, 2, 8, 6, 4)   \n",
    "t3 = (1, 3, 3, 5, 3, 5, 7)  \n",
    "\n",
    "Faça:\n",
    "\n",
    "Calcule o tamanho das tuplas: t1 e t2    \n",
    "Imprima as tuplas ordenadas: t1 e t2 e depois reimprima-as   \n",
    "Conte quantas vezes aparecem o valor 3 na t3    \n",
    "Procure onde aparece o valor 'Refri' na t1    \n",
    "Procure o valor 5 na t3 após o 4º termo    \n",
    "Concatene as tuplas t2 e t3   "
   ]
  },
  {
   "cell_type": "code",
   "execution_count": 80,
   "metadata": {},
   "outputs": [
    {
     "name": "stdout",
     "output_type": "stream",
     "text": [
      " 3 \n",
      " 7 \n",
      " ['Batata', 'Lanche', 'Refri'] \n",
      " [0, 2, 4, 4, 6, 6, 8] \n",
      " 3 \n",
      " 2 \n",
      " 5 \n",
      " (0, 6, 4, 2, 8, 6, 4, 1, 3, 3, 5, 3, 5, 7)\n"
     ]
    }
   ],
   "source": [
    "t1 = ('Lanche', 'Batata', 'Refri')\n",
    "t2 = (0, 6, 4, 2, 8, 6, 4)\n",
    "t3 = (1, 3, 3, 5, 3, 5, 7)\n",
    "\n",
    "print('',len(t1),'\\n',\n",
    "len(t2),'\\n',\n",
    "sorted(t1),'\\n',\n",
    "sorted(t2),'\\n',\n",
    "t3.count(3),'\\n',\n",
    "t1.index('Refri'),'\\n',\n",
    "t3.index(5,4),'\\n',\n",
    "t2+t3)"
   ]
  },
  {
   "attachments": {},
   "cell_type": "markdown",
   "metadata": {},
   "source": [
    "Olhando este último exemplo, aparece a dúvida: e se eu quisesse somar os termos das tuplas? E multiplicar?\n",
    "\n",
    "Para isso teremos que juntar com o conceito das aulas de repetições!!!\n",
    "\n",
    "# Tuplas dentro de For\n",
    "As tuplas possuem vários valores, assim como o range. Portanto podemos rodar um looping de for com os valores diretos de uma lista\n",
    "\n",
    "#### Estrutura\n",
    "A partir do momento que a tupla está definida podemos rodar o for utilizando:\n",
    "\n",
    "#### for i in tupla:\n",
    "Quando utilizarmos esse comando em cada passo do loop a variável de controle i vai valer cada item da tupla até percorrermos toda a tupla.\n",
    "\n",
    "# Exemplo 1\n",
    "Dada a tupla:\n",
    "\n",
    "t1 = ('Lanche','Refri','Batata')\n",
    "\n",
    "Imprima seus valores"
   ]
  },
  {
   "cell_type": "code",
   "execution_count": 85,
   "metadata": {},
   "outputs": [
    {
     "name": "stdout",
     "output_type": "stream",
     "text": [
      "Temos no cardapio: Lanche\n",
      "Temos no cardapio: Batata\n",
      "Temos no cardapio: Refri\n",
      "---------- fim ----------\n"
     ]
    }
   ],
   "source": [
    "for i in t1:\n",
    "    print(f'Temos no cardapio: {i}')\n",
    "print('-'*10,'fim','-'*10)\n",
    "    "
   ]
  },
  {
   "attachments": {},
   "cell_type": "markdown",
   "metadata": {},
   "source": [
    "# Exemplo 2\n",
    "Dado a tupla t2 some todos os seus valores"
   ]
  },
  {
   "cell_type": "code",
   "execution_count": 100,
   "metadata": {},
   "outputs": [
    {
     "name": "stdout",
     "output_type": "stream",
     "text": [
      "A soma é: 30 \n",
      " ---- ou ---- \n",
      "A soma é: 30\n",
      " ---- ou ---- \n",
      "A soma é: 30\n"
     ]
    }
   ],
   "source": [
    "print('A soma é:',sum(t2),'\\n',\n",
    "\n",
    "'-'*4,'ou','-'*4,'\\n'\n",
    "\n",
    "'A soma é:',t2[0]+t2[1]+t2[2]+t2[3]+t2[4]+t2[5]+t2[6])\n",
    "\n",
    "soma=0\n",
    "for i in t2:\n",
    "    soma+=i\n",
    "\n",
    "print('','-'*4, 'ou', '-'*4, '\\n'\n",
    "'A soma é:',soma)"
   ]
  },
  {
   "attachments": {},
   "cell_type": "markdown",
   "metadata": {},
   "source": [
    "Observe que nos exemplos acima nós nem precisamos saber qual era o tamanho da tupla para o programa rodar.\n",
    "\n",
    "Mas, e se precisarmos saber qual é o indice de cada valor dentro do loop? Para isso usaremos o:       \n",
    "#    \n",
    "#      \n",
    "#          \n",
    "       \n",
    "      \n",
    "# Enumerate()\n",
    "### Quando usamos essa função dentro da declaração de um for ela vai mostrar para a gente tanto o valor da variável de controle quanto também o índice dela. Só precisamos fazer um pequeno ajuste na sintaxe:\n",
    "\n",
    "## for indice,valor in enumerate(t1):\n",
    "\n",
    "# Exemplo 1\n",
    "Plote os itens da tupla t1, mostrando os seus índices, como se fosse um cardápio"
   ]
  },
  {
   "cell_type": "code",
   "execution_count": 105,
   "metadata": {},
   "outputs": [
    {
     "name": "stdout",
     "output_type": "stream",
     "text": [
      "item 0: Lanche\n",
      "item 1: Batata\n",
      "item 2: Refri\n"
     ]
    }
   ],
   "source": [
    "for i, c in enumerate(t1):\n",
    "    print(f'item {i}: {c}' )"
   ]
  },
  {
   "cell_type": "markdown",
   "metadata": {},
   "source": []
  },
  {
   "cell_type": "code",
   "execution_count": null,
   "metadata": {},
   "outputs": [],
   "source": []
  },
  {
   "cell_type": "markdown",
   "metadata": {},
   "source": []
  },
  {
   "cell_type": "code",
   "execution_count": null,
   "metadata": {},
   "outputs": [],
   "source": []
  },
  {
   "cell_type": "markdown",
   "metadata": {},
   "source": []
  },
  {
   "cell_type": "code",
   "execution_count": null,
   "metadata": {},
   "outputs": [],
   "source": []
  },
  {
   "cell_type": "markdown",
   "metadata": {},
   "source": []
  },
  {
   "cell_type": "code",
   "execution_count": null,
   "metadata": {},
   "outputs": [],
   "source": []
  }
 ],
 "metadata": {
  "kernelspec": {
   "display_name": "Python 3",
   "language": "python",
   "name": "python3"
  },
  "language_info": {
   "codemirror_mode": {
    "name": "ipython",
    "version": 3
   },
   "file_extension": ".py",
   "mimetype": "text/x-python",
   "name": "python",
   "nbconvert_exporter": "python",
   "pygments_lexer": "ipython3",
   "version": "3.10.9 (tags/v3.10.9:1dd9be6, Dec  6 2022, 20:01:21) [MSC v.1934 64 bit (AMD64)]"
  },
  "orig_nbformat": 4,
  "vscode": {
   "interpreter": {
    "hash": "e9e375da22a79186ffe49072ae6df2c8be50fc2c627f3d12cad18e70942528a3"
   }
  }
 },
 "nbformat": 4,
 "nbformat_minor": 2
}
