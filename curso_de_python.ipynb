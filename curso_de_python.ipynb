{
 "cells": [
  {
   "attachments": {},
   "cell_type": "markdown",
   "metadata": {},
   "source": [
    "# OPERADORES\n"
   ]
  },
  {
   "cell_type": "code",
   "execution_count": 17,
   "metadata": {},
   "outputs": [
    {
     "name": "stdout",
     "output_type": "stream",
     "text": [
      "adição   5 + 7 = 12\n",
      "<class 'int'>\n",
      "--------------------\n",
      "subtração    5 - 7 = -2\n",
      "<class 'int'>\n",
      "--------------------\n",
      "multiplicação    5 * 7 = 35\n",
      "<class 'int'>\n",
      "--------------------\n",
      "divisão    5 / 7 = 0.7142857142857143\n",
      "<class 'float'>\n",
      "0.71\n",
      "--------------------\n",
      "potenciação    5 ** 7 = 78125\n",
      "<class 'int'>\n",
      "--------------------\n",
      "divisão inteira    5 // 7 = 0\n",
      "<class 'int'>\n",
      "--------------------\n",
      "resto da divisão    5 % 7 = 5\n",
      "<class 'int'>\n",
      "\n",
      "----------------------------------------\n",
      "\n",
      "Gabriel Gonçalves de brito\n",
      "Olá Olá Olá Olá Olá Olá Olá Olá Olá Olá \n",
      "-----------------------------------------------------------------\n",
      "           Seja Bem Vindo ao Curso de Python da DNC\n",
      "-----------------------------------------------------------------\n"
     ]
    }
   ],
   "source": [
    "a=5\n",
    "b=7\n",
    "\n",
    "print('adição  ', a, '+', b, '=', a+b)\n",
    "print(type(a+b))\n",
    "\n",
    "print('-'*20)\n",
    "\n",
    "print('subtração   ', a, '-', b,'=', a-b)\n",
    "print(type(a-b))\n",
    "\n",
    "print('-'*20)\n",
    "\n",
    "print('multiplicação   ', a,'*',b, '=', a*b)\n",
    "print(type(a*b))\n",
    "\n",
    "print('-'*20)\n",
    "\n",
    "print('divisão   ',a,'/',b, '=',a/b)\n",
    "print(type(a/b))\n",
    "print( '{:.2f}'.format(a/b))\n",
    "\n",
    "print('-'*20)\n",
    "\n",
    "print('potenciação   ',a,'**',b, '=',a**b)\n",
    "print(type(a**b))\n",
    "\n",
    "print('-'*20)\n",
    "\n",
    "print('divisão inteira   ',a,'//',b, '=',a//b)\n",
    "print(type(a//b))\n",
    "\n",
    "print('-'*20)\n",
    "\n",
    "print('resto da divisão   ',a,'%',b, '=',a%b)\n",
    "print(type(a%b))\n",
    "\n",
    "print()\n",
    "print('-'*40)\n",
    "print()\n",
    "\n",
    "nomePrimeiro='Gabriel '\n",
    "nomeMeio='Gonçalves de '\n",
    "nomeutimo='brito'\n",
    "\n",
    "nomeConpleto=nomePrimeiro+nomeMeio+nomeutimo\n",
    "\n",
    "print(nomeConpleto)\n",
    "\n",
    "print('Olá '*10)\n",
    "\n",
    "print('-'*65)\n",
    "print(' '*10,'Seja Bem Vindo ao Curso de Python da DNC',)\n",
    "print('-'*65)"
   ]
  },
  {
   "cell_type": "code",
   "execution_count": 22,
   "metadata": {},
   "outputs": [
    {
     "name": "stdout",
     "output_type": "stream",
     "text": [
      "32.56\n",
      "66.40\n",
      "19906.56\n",
      "359806783671586240.00\n"
     ]
    }
   ],
   "source": [
    "a=6\n",
    "b=4\n",
    "c=4.86\n",
    "d=6.64\n",
    "\n",
    "# Quanto é: a + b * d\n",
    "print(a+b*d)\n",
    "\n",
    "\n",
    "# Quanto é: (a + b) * d\n",
    "print('{:.2f}'.format((a+b)*d))\n",
    "\n",
    "\n",
    "# Quanto é: b ** a * c\n",
    "print(b**a*c)\n",
    "\n",
    "\n",
    "# Quanto é: b ** (a * c)\n",
    "print('{:.2f}'.format(b**(a*c)))"
   ]
  },
  {
   "cell_type": "code",
   "execution_count": 23,
   "metadata": {},
   "outputs": [
    {
     "name": "stdout",
     "output_type": "stream",
     "text": [
      "##########\n"
     ]
    }
   ],
   "source": [
    "print('#'*10)"
   ]
  },
  {
   "cell_type": "code",
   "execution_count": 2,
   "metadata": {},
   "outputs": [
    {
     "name": "stdout",
     "output_type": "stream",
     "text": [
      "10 * 1 = 10\n",
      "10 * 2 = 20\n",
      "10 * 3 = 30\n",
      "10 * 4 = 40\n",
      "10 * 5 = 50\n",
      "10 * 6 = 60\n",
      "10 * 7 = 70\n",
      "10 * 8 = 80\n",
      "10 * 9 = 90\n",
      "10 * 10 = 100\n",
      "chegamos ao fim, até a proxima\n"
     ]
    }
   ],
   "source": []
  }
 ],
 "metadata": {
  "kernelspec": {
   "display_name": "Python 3",
   "language": "python",
   "name": "python3"
  },
  "language_info": {
   "codemirror_mode": {
    "name": "ipython",
    "version": 3
   },
   "file_extension": ".py",
   "mimetype": "text/x-python",
   "name": "python",
   "nbconvert_exporter": "python",
   "pygments_lexer": "ipython3",
   "version": "3.10.9"
  },
  "orig_nbformat": 4,
  "vscode": {
   "interpreter": {
    "hash": "e9e375da22a79186ffe49072ae6df2c8be50fc2c627f3d12cad18e70942528a3"
   }
  }
 },
 "nbformat": 4,
 "nbformat_minor": 2
}
