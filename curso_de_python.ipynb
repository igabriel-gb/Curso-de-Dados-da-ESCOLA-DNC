{
 "cells": [
  {
   "attachments": {},
   "cell_type": "markdown",
   "metadata": {},
   "source": [
    "\n",
    "# Exercício 1\n",
    "## Parte 1\n",
    "Crie 3 variáveis:\n",
    "\n",
    "nomePrimeiro, nomeMeio, nomeUltimo\n",
    "\n",
    "Atribua um valor para cada uma delas e imprima a seguinte frase para o usuário:\n",
    "\n",
    "\"Gabriel Gonçalves de Briro, seja muito bem vindo a DNC\"\n",
    "\n",
    "Não precisa usar input( )"
   ]
  },
  {
   "cell_type": "code",
   "execution_count": 28,
   "metadata": {},
   "outputs": [
    {
     "name": "stdout",
     "output_type": "stream",
     "text": [
      "Gabriel Gonçalves de Brito, seja bem vindo a DNC\n"
     ]
    }
   ],
   "source": [
    "nomePrimeiro= 'Gabriel '\n",
    "nomeMeio= 'Gonçalves de '\n",
    "nomeUltimo= 'Brito'\n",
    "\n",
    "print(nomePrimeiro + nomeMeio + nomeUltimo + ', seja bem vindo a DNC')"
   ]
  },
  {
   "attachments": {},
   "cell_type": "markdown",
   "metadata": {},
   "source": [
    "## Parte 2\n",
    "Agora peça para o usuário digitar as 3 variáveis antes de mostrar a mesma frase da parte 1.\n",
    "\n",
    "Resultado esperado"
   ]
  },
  {
   "cell_type": "code",
   "execution_count": 29,
   "metadata": {},
   "outputs": [
    {
     "name": "stdout",
     "output_type": "stream",
     "text": [
      "Gabriel Gonçalves de Brito, seja muito bem vindoa DNC\n"
     ]
    }
   ],
   "source": [
    "nomePrimeiro=input('Qual o seu primeiro nome?\\n')\n",
    "nomeMeio=input('Qual o seu nome do meio?\\n')\n",
    "nomeUltimo=input('Qual o seu ultimo nome?\\n')\n",
    "\n",
    "print(nomePrimeiro, nomeMeio, nomeUltimo + ', seja muito bem vindoa DNC')"
   ]
  },
  {
   "attachments": {},
   "cell_type": "markdown",
   "metadata": {},
   "source": [
    "# Exercício 2\n",
    "#### 1. Vamos criar nosso primeiro script 💪, que:\n",
    "\n",
    "Armazene em uma variavel o nome do cliente, a variável precisa se chamar cliente_nome e o nome do cliente você pode usar sua criatividade.\n",
    "\n",
    "Crie uma variável que armazene a idade do cliente, a variável precisa se chamar cliente_idade.\n",
    "\n",
    "Exiba na tela as 2 variáveis e apenas uma variável por linha. Ex: \"O nome do Cliente é: Nathan Pereira\"."
   ]
  },
  {
   "cell_type": "code",
   "execution_count": 24,
   "metadata": {},
   "outputs": [
    {
     "name": "stdout",
     "output_type": "stream",
     "text": [
      "Nome do cliente: Gabriel Gonçalves de brito\n",
      "A idade do cliente: 25\n"
     ]
    }
   ],
   "source": [
    "cliente_nome='Gabriel Gonçalves de brito'\n",
    "cliente_idade= 25\n",
    "\n",
    "print('Nome do cliente:', cliente_nome)\n",
    "print('A idade do cliente:', cliente_idade)"
   ]
  },
  {
   "attachments": {},
   "cell_type": "markdown",
   "metadata": {},
   "source": [
    "#### 2. Agora que você já criou seu primeiro script vamos aumentar a dificuldade!\n",
    "Agora é o cliente que vai colocar as informações! Crie uma variável que receba como input o nome e a idade do cliente!\n",
    "Para ajudar o usuário exiba, essas variáveis na tela."
   ]
  },
  {
   "cell_type": "code",
   "execution_count": 3,
   "metadata": {},
   "outputs": [
    {
     "name": "stdout",
     "output_type": "stream",
     "text": [
      "O nome do clinte é: Gabriel Gonçalves de Brito\n",
      "A idade do cliente é: 25\n"
     ]
    }
   ],
   "source": [
    "cliente= input('Qual seu nome?\\n')\n",
    "idade= input('Qual a sua idade?\\n')\n",
    "\n",
    "print('O nome do clinte é:', cliente)\n",
    "print('A idade do cliente é:', idade)"
   ]
  },
  {
   "attachments": {},
   "cell_type": "markdown",
   "metadata": {},
   "source": [
    "#### 3. Vamos brincar com mais variáveis agora?!\n",
    "Crie uma variável do tipo FLOAT que vai armazenar o valor do produto, que receberá o valor de 25.30!\n",
    "Crie uma variável do tipo BOOL que vai armazenar se ele é ou não um cliente premium, recebendo o valor de True.\n",
    "Agora exiba essas variáveis na tela.\n",
    "Exiba também o tipo dessas variáveis."
   ]
  },
  {
   "cell_type": "code",
   "execution_count": 20,
   "metadata": {},
   "outputs": [
    {
     "name": "stdout",
     "output_type": "stream",
     "text": [
      "O valor do produto é: 25.3\n",
      "O tipo da variável produto-valor é: <class 'float'>\n",
      "O cliente é premium? True\n",
      "O tipo da variável cliemte_premium é: <class 'bool'>\n",
      "\n",
      "o valor do produto é: ,produto_valor 25.3 <class 'float'>\n",
      "o cliente é premium? True <class 'bool'>\n"
     ]
    }
   ],
   "source": [
    "produto_valor=25.30\n",
    "cliente_premium=True\n",
    "\n",
    "print('O valor do produto é:', produto_valor)\n",
    "print ('O tipo da variável produto-valor é:', type( produto_valor))\n",
    "print('O cliente é premium?', cliente_premium)\n",
    "print('O tipo da variável cliemte_premium é:', type(cliente_premium))\n",
    "print()\n",
    "\n",
    "print('o valor do produto é: ,produto_valor', produto_valor, type (produto_valor))\n",
    "print('o cliente é premium?', cliente_premium, type(cliente_premium))"
   ]
  },
  {
   "attachments": {},
   "cell_type": "markdown",
   "metadata": {},
   "source": [
    "### tipos de dados\n",
    "\n",
    "*str:* cadeia de caracteres= ']~´[@', '7', 'Gabriel'\n",
    "\n",
    "*int:* inteiro= 5, 10, 25\n",
    "\n",
    "*float:* real= 5.3, 25.3\n",
    "\n",
    "*bool:* booleanos= true, false\n",
    "\n",
    "\n",
    "### funções\n",
    "\n",
    "**print()=** imprimr uma frase\n",
    "\n",
    "**type()=** verifica o tipo de dado de uma variável\n",
    "\n",
    "**input()=** pede pro usuário fornecer um valor (str)"
   ]
  }
 ],
 "metadata": {
  "kernelspec": {
   "display_name": "Python 3",
   "language": "python",
   "name": "python3"
  },
  "language_info": {
   "codemirror_mode": {
    "name": "ipython",
    "version": 3
   },
   "file_extension": ".py",
   "mimetype": "text/x-python",
   "name": "python",
   "nbconvert_exporter": "python",
   "pygments_lexer": "ipython3",
   "version": "3.10.9"
  },
  "orig_nbformat": 4,
  "vscode": {
   "interpreter": {
    "hash": "e9e375da22a79186ffe49072ae6df2c8be50fc2c627f3d12cad18e70942528a3"
   }
  }
 },
 "nbformat": 4,
 "nbformat_minor": 2
}
