{
 "cells": [
  {
   "attachments": {},
   "cell_type": "markdown",
   "metadata": {},
   "source": [
    "# OPERADORES\n"
   ]
  },
  {
   "cell_type": "code",
   "execution_count": 17,
   "metadata": {},
   "outputs": [
    {
     "name": "stdout",
     "output_type": "stream",
     "text": [
      "adição   5 + 7 = 12\n",
      "<class 'int'>\n",
      "--------------------\n",
      "subtração    5 - 7 = -2\n",
      "<class 'int'>\n",
      "--------------------\n",
      "multiplicação    5 * 7 = 35\n",
      "<class 'int'>\n",
      "--------------------\n",
      "divisão    5 / 7 = 0.7142857142857143\n",
      "<class 'float'>\n",
      "0.71\n",
      "--------------------\n",
      "potenciação    5 ** 7 = 78125\n",
      "<class 'int'>\n",
      "--------------------\n",
      "divisão inteira    5 // 7 = 0\n",
      "<class 'int'>\n",
      "--------------------\n",
      "resto da divisão    5 % 7 = 5\n",
      "<class 'int'>\n",
      "\n",
      "----------------------------------------\n",
      "\n",
      "Gabriel Gonçalves de brito\n",
      "Olá Olá Olá Olá Olá Olá Olá Olá Olá Olá \n",
      "-----------------------------------------------------------------\n",
      "           Seja Bem Vindo ao Curso de Python da DNC\n",
      "-----------------------------------------------------------------\n"
     ]
    }
   ],
   "source": [
    "a=5\n",
    "b=7\n",
    "\n",
    "print('adição  ', a, '+', b, '=', a+b)\n",
    "print(type(a+b))\n",
    "\n",
    "print('-'*20)\n",
    "\n",
    "print('subtração   ', a, '-', b,'=', a-b)\n",
    "print(type(a-b))\n",
    "\n",
    "print('-'*20)\n",
    "\n",
    "print('multiplicação   ', a,'*',b, '=', a*b)\n",
    "print(type(a*b))\n",
    "\n",
    "print('-'*20)\n",
    "\n",
    "print('divisão   ',a,'/',b, '=',a/b)\n",
    "print(type(a/b))\n",
    "print( '{:.2f}'.format(a/b))\n",
    "\n",
    "print('-'*20)\n",
    "\n",
    "print('potenciação   ',a,'**',b, '=',a**b)\n",
    "print(type(a**b))\n",
    "\n",
    "print('-'*20)\n",
    "\n",
    "print('divisão inteira   ',a,'//',b, '=',a//b)\n",
    "print(type(a//b))\n",
    "\n",
    "print('-'*20)\n",
    "\n",
    "print('resto da divisão   ',a,'%',b, '=',a%b)\n",
    "print(type(a%b))\n",
    "\n",
    "print()\n",
    "print('-'*40)\n",
    "print()\n",
    "\n",
    "nomePrimeiro='Gabriel '\n",
    "nomeMeio='Gonçalves de '\n",
    "nomeutimo='brito'\n",
    "\n",
    "nomeConpleto=nomePrimeiro+nomeMeio+nomeutimo\n",
    "\n",
    "print(nomeConpleto)\n",
    "\n",
    "print('Olá '*10)\n",
    "\n",
    "print('-'*65)\n",
    "print(' '*10,'Seja Bem Vindo ao Curso de Python da DNC',)\n",
    "print('-'*65)"
   ]
  },
  {
   "cell_type": "code",
   "execution_count": 22,
   "metadata": {},
   "outputs": [
    {
     "name": "stdout",
     "output_type": "stream",
     "text": [
      "32.56\n",
      "66.40\n",
      "19906.56\n",
      "359806783671586240.00\n"
     ]
    }
   ],
   "source": [
    "a=6\n",
    "b=4\n",
    "c=4.86\n",
    "d=6.64\n",
    "\n",
    "# Quanto é: a + b * d\n",
    "print(a+b*d)\n",
    "\n",
    "\n",
    "# Quanto é: (a + b) * d\n",
    "print('{:.2f}'.format((a+b)*d))\n",
    "\n",
    "\n",
    "# Quanto é: b ** a * c\n",
    "print(b**a*c)\n",
    "\n",
    "\n",
    "# Quanto é: b ** (a * c)\n",
    "print('{:.2f}'.format(b**(a*c)))"
   ]
  },
  {
   "cell_type": "code",
   "execution_count": 23,
   "metadata": {},
   "outputs": [
    {
     "name": "stdout",
     "output_type": "stream",
     "text": [
      "##########\n"
     ]
    }
   ],
   "source": [
    "print('#'*10)"
   ]
  },
  {
   "attachments": {},
   "cell_type": "markdown",
   "metadata": {},
   "source": [
    "## Exemplo\n",
    " dado as variáveis:\n",
    " a=2\n",
    " b=3\n",
    " complete e mostre para o usuário se uma é igual a outra, ou se uma e maior, e neste caso qual é a maior."
   ]
  },
  {
   "cell_type": "code",
   "execution_count": 3,
   "metadata": {},
   "outputs": [
    {
     "name": "stdout",
     "output_type": "stream",
     "text": [
      "a e igual a b\n"
     ]
    }
   ],
   "source": [
    "a= int(print('digite um valor: '))\n",
    "b= int(print('digite outro valor: '))\n",
    "\n",
    "if a == b:\n",
    "    print ('A e igual a B')\n",
    "elif a<b:\n",
    "    print ('A e menor que B')\n",
    "else:\n",
    "    print('B e menor que A')\n",
    "print('fim, ate a proxima')"
   ]
  },
  {
   "attachments": {},
   "cell_type": "markdown",
   "metadata": {},
   "source": [
    "## Exenplo 2\n",
    "Agor afaça um programa no qual o usuário vai digitar os 2 números e você fará essas comparações."
   ]
  },
  {
   "cell_type": "code",
   "execution_count": 16,
   "metadata": {},
   "outputs": [
    {
     "name": "stdout",
     "output_type": "stream",
     "text": [
      " A e igual a B\n"
     ]
    }
   ],
   "source": [
    "a= float(input('digite um numero: '))\n",
    "b= float( input('digite outro valor: '))\n",
    "if a == b:\n",
    "    print(' A e igual a B')\n",
    "elif a > b:\n",
    "    print('A e maior que B')\n",
    "else:\n",
    "    ( print(' prit B e maior que'))"
   ]
  },
  {
   "attachments": {},
   "cell_type": "markdown",
   "metadata": {},
   "source": [
    "## Exenplo 3\n",
    "faça um programa que o usoario vai digitar a vontade que ele esta de comer alguma coisa.\n",
    "caso este input seja:\n",
    "lanche: entao inprima: Vá ao méqui\n",
    "pizza: ventão imprima: vá ao hut\n",
    "mexicano: então imprima: Vá ao bell\n",
    "caso contrario: então imprima: tente novamente"
   ]
  },
  {
   "cell_type": "code",
   "execution_count": 12,
   "metadata": {},
   "outputs": [
    {
     "name": "stdout",
     "output_type": "stream",
     "text": [
      "Va ao hut\n"
     ]
    }
   ],
   "source": [
    "comer= input('Você que comer um Lanche, pizza ou mechicano?\\n')[0].lower()\n",
    "if comer=='l':\n",
    "    print('Vá ao méqui, e aproveite as oferatas')\n",
    "elif comer=='p':\n",
    "    print('Vá ao hut comer pizza')\n",
    "elif comer=='m':\n",
    "    print ('Vá ao bell, e cuidado com a pimenta')\n",
    "else:\n",
    "    print(' tente nova mente')\n"
   ]
  },
  {
   "attachments": {},
   "cell_type": "markdown",
   "metadata": {},
   "source": [
    "## Exemplo 1\n",
    "se eu tiverr mais que 20 reais e o preço do lanche for igual ou menor que 10 reais, então eu compro o lanche"
   ]
  },
  {
   "cell_type": "code",
   "execution_count": 20,
   "metadata": {},
   "outputs": [
    {
     "name": "stdout",
     "output_type": "stream",
     "text": [
      "não compre o lanche.\n"
     ]
    }
   ],
   "source": [
    "preco_do_lanche=float(input('qual o preço do lanche?'))\n",
    "valor_na_carteira=float(input('quanto você tem de dinheiro?'))\n",
    "\n",
    "if valor_na_carteira >= 20 and preco_do_lanche <= 10:\n",
    "    print('compre o lanche.')\n",
    "else:\n",
    "    print('não compre o lanche.')"
   ]
  },
  {
   "attachments": {},
   "cell_type": "markdown",
   "metadata": {},
   "source": [
    "## Exemplo \n",
    "Se você tiver média nas notas >7 ou nota na prova final >7 você esta aprovado"
   ]
  },
  {
   "cell_type": "code",
   "execution_count": 21,
   "metadata": {},
   "outputs": [
    {
     "name": "stdout",
     "output_type": "stream",
     "text": [
      "Você esta aprovado\n"
     ]
    }
   ],
   "source": [
    "media = float(input('Qual a sua nota média?\\n'))\n",
    "prova = float(input('Qual sua nota da prova\\n?'))\n",
    "\n",
    "if media >= 7 or prova >=7:\n",
    "    print ('Você esta aprovado')\n",
    "else:\n",
    "    print('Você esta reprovado')"
   ]
  },
  {
   "attachments": {},
   "cell_type": "markdown",
   "metadata": {},
   "source": [
    "# Verificando variáveir\n",
    " \n",
    " Esta funcionabilidade é muito usada para testar e saber se podemos converter as variaveis dadas pelo usuário.\n",
    "\n",
    "\n",
    " 1.     .isnumeric( ): o input é numérico\n",
    " 2.     .isalpha( ): o input é texto\n",
    " 3.     .isalnum( ) o input é texto e numérico"
   ]
  },
  {
   "cell_type": "code",
   "execution_count": 25,
   "metadata": {},
   "outputs": [
    {
     "name": "stdout",
     "output_type": "stream",
     "text": [
      "False\n",
      "False\n",
      "True\n"
     ]
    }
   ],
   "source": [
    "entrada= input('digite qualquer cousa')\n",
    "\n",
    "numero=entrada.isnumeric()\n",
    "texto=entrada.isalpha()\n",
    "textoEnumero=entrada.isalnum()\n",
    "print(numero)\n",
    "print(texto)\n",
    "print(textoEnumero)"
   ]
  }
 ],
 "metadata": {
  "kernelspec": {
   "display_name": "Python 3",
   "language": "python",
   "name": "python3"
  },
  "language_info": {
   "codemirror_mode": {
    "name": "ipython",
    "version": 3
   },
   "file_extension": ".py",
   "mimetype": "text/x-python",
   "name": "python",
   "nbconvert_exporter": "python",
   "pygments_lexer": "ipython3",
   "version": "3.10.9"
  },
  "orig_nbformat": 4,
  "vscode": {
   "interpreter": {
    "hash": "e9e375da22a79186ffe49072ae6df2c8be50fc2c627f3d12cad18e70942528a3"
   }
  }
 },
 "nbformat": 4,
 "nbformat_minor": 2
}
